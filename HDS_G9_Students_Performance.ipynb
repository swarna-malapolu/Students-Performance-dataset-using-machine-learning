{
  "cells": [
    {
      "cell_type": "markdown",
      "metadata": {
        "id": "GRSloE8eReVU"
      },
      "source": [
        "#IMPORT DATA"
      ]
    },
    {
      "cell_type": "markdown",
      "source": [
        "PROJECT PRESENTATION LINK:\n",
        "https://drive.google.com/file/d/14uZCeXn_elJezmTO7VFk7alEdkmvgKei/view?usp=share_link"
      ],
      "metadata": {
        "id": "fhr4zL_4KA00"
      }
    },
    {
      "cell_type": "code",
      "execution_count": null,
      "metadata": {
        "id": "b0Vche3dEsm9"
      },
      "outputs": [],
      "source": [
        "import numpy as np\n",
        "import pandas as pd\n",
        "import matplotlib.pyplot as plt\n",
        "import seaborn as sns\n",
        "import sklearn.metrics as skl\n",
        "from sklearn.metrics import mean_absolute_error\n"
      ]
    },
    {
      "cell_type": "code",
      "execution_count": null,
      "metadata": {
        "colab": {
          "base_uri": "https://localhost:8080/",
          "height": 424
        },
        "id": "DfJhXTQRHQiH",
        "outputId": "758e0a75-2976-466d-d456-25576ef756c1"
      },
      "outputs": [
        {
          "output_type": "execute_result",
          "data": {
            "text/plain": [
              "    school sex  age address famsize Pstatus  Medu  Fedu      Mjob      Fjob  \\\n",
              "0       GP   F   18       U     GT3       A     4     4   at_home   teacher   \n",
              "1       GP   F   17       U     GT3       T     1     1   at_home     other   \n",
              "2       GP   F   15       U     LE3       T     1     1   at_home     other   \n",
              "3       GP   F   15       U     GT3       T     4     2    health  services   \n",
              "4       GP   F   16       U     GT3       T     3     3     other     other   \n",
              "..     ...  ..  ...     ...     ...     ...   ...   ...       ...       ...   \n",
              "390     MS   M   20       U     LE3       A     2     2  services  services   \n",
              "391     MS   M   17       U     LE3       T     3     1  services  services   \n",
              "392     MS   M   21       R     GT3       T     1     1     other     other   \n",
              "393     MS   M   18       R     LE3       T     3     2  services     other   \n",
              "394     MS   M   19       U     LE3       T     1     1     other   at_home   \n",
              "\n",
              "     ... famrel freetime  goout  Dalc  Walc health absences  G1  G2  G3  \n",
              "0    ...      4        3      4     1     1      3        6   5   6   6  \n",
              "1    ...      5        3      3     1     1      3        4   5   5   6  \n",
              "2    ...      4        3      2     2     3      3       10   7   8  10  \n",
              "3    ...      3        2      2     1     1      5        2  15  14  15  \n",
              "4    ...      4        3      2     1     2      5        4   6  10  10  \n",
              "..   ...    ...      ...    ...   ...   ...    ...      ...  ..  ..  ..  \n",
              "390  ...      5        5      4     4     5      4       11   9   9   9  \n",
              "391  ...      2        4      5     3     4      2        3  14  16  16  \n",
              "392  ...      5        5      3     3     3      3        3  10   8   7  \n",
              "393  ...      4        4      1     3     4      5        0  11  12  10  \n",
              "394  ...      3        2      3     3     3      5        5   8   9   9  \n",
              "\n",
              "[395 rows x 33 columns]"
            ],
            "text/html": [
              "\n",
              "  <div id=\"df-b18841b1-7d4a-48a4-a69f-d117bf968a13\">\n",
              "    <div class=\"colab-df-container\">\n",
              "      <div>\n",
              "<style scoped>\n",
              "    .dataframe tbody tr th:only-of-type {\n",
              "        vertical-align: middle;\n",
              "    }\n",
              "\n",
              "    .dataframe tbody tr th {\n",
              "        vertical-align: top;\n",
              "    }\n",
              "\n",
              "    .dataframe thead th {\n",
              "        text-align: right;\n",
              "    }\n",
              "</style>\n",
              "<table border=\"1\" class=\"dataframe\">\n",
              "  <thead>\n",
              "    <tr style=\"text-align: right;\">\n",
              "      <th></th>\n",
              "      <th>school</th>\n",
              "      <th>sex</th>\n",
              "      <th>age</th>\n",
              "      <th>address</th>\n",
              "      <th>famsize</th>\n",
              "      <th>Pstatus</th>\n",
              "      <th>Medu</th>\n",
              "      <th>Fedu</th>\n",
              "      <th>Mjob</th>\n",
              "      <th>Fjob</th>\n",
              "      <th>...</th>\n",
              "      <th>famrel</th>\n",
              "      <th>freetime</th>\n",
              "      <th>goout</th>\n",
              "      <th>Dalc</th>\n",
              "      <th>Walc</th>\n",
              "      <th>health</th>\n",
              "      <th>absences</th>\n",
              "      <th>G1</th>\n",
              "      <th>G2</th>\n",
              "      <th>G3</th>\n",
              "    </tr>\n",
              "  </thead>\n",
              "  <tbody>\n",
              "    <tr>\n",
              "      <th>0</th>\n",
              "      <td>GP</td>\n",
              "      <td>F</td>\n",
              "      <td>18</td>\n",
              "      <td>U</td>\n",
              "      <td>GT3</td>\n",
              "      <td>A</td>\n",
              "      <td>4</td>\n",
              "      <td>4</td>\n",
              "      <td>at_home</td>\n",
              "      <td>teacher</td>\n",
              "      <td>...</td>\n",
              "      <td>4</td>\n",
              "      <td>3</td>\n",
              "      <td>4</td>\n",
              "      <td>1</td>\n",
              "      <td>1</td>\n",
              "      <td>3</td>\n",
              "      <td>6</td>\n",
              "      <td>5</td>\n",
              "      <td>6</td>\n",
              "      <td>6</td>\n",
              "    </tr>\n",
              "    <tr>\n",
              "      <th>1</th>\n",
              "      <td>GP</td>\n",
              "      <td>F</td>\n",
              "      <td>17</td>\n",
              "      <td>U</td>\n",
              "      <td>GT3</td>\n",
              "      <td>T</td>\n",
              "      <td>1</td>\n",
              "      <td>1</td>\n",
              "      <td>at_home</td>\n",
              "      <td>other</td>\n",
              "      <td>...</td>\n",
              "      <td>5</td>\n",
              "      <td>3</td>\n",
              "      <td>3</td>\n",
              "      <td>1</td>\n",
              "      <td>1</td>\n",
              "      <td>3</td>\n",
              "      <td>4</td>\n",
              "      <td>5</td>\n",
              "      <td>5</td>\n",
              "      <td>6</td>\n",
              "    </tr>\n",
              "    <tr>\n",
              "      <th>2</th>\n",
              "      <td>GP</td>\n",
              "      <td>F</td>\n",
              "      <td>15</td>\n",
              "      <td>U</td>\n",
              "      <td>LE3</td>\n",
              "      <td>T</td>\n",
              "      <td>1</td>\n",
              "      <td>1</td>\n",
              "      <td>at_home</td>\n",
              "      <td>other</td>\n",
              "      <td>...</td>\n",
              "      <td>4</td>\n",
              "      <td>3</td>\n",
              "      <td>2</td>\n",
              "      <td>2</td>\n",
              "      <td>3</td>\n",
              "      <td>3</td>\n",
              "      <td>10</td>\n",
              "      <td>7</td>\n",
              "      <td>8</td>\n",
              "      <td>10</td>\n",
              "    </tr>\n",
              "    <tr>\n",
              "      <th>3</th>\n",
              "      <td>GP</td>\n",
              "      <td>F</td>\n",
              "      <td>15</td>\n",
              "      <td>U</td>\n",
              "      <td>GT3</td>\n",
              "      <td>T</td>\n",
              "      <td>4</td>\n",
              "      <td>2</td>\n",
              "      <td>health</td>\n",
              "      <td>services</td>\n",
              "      <td>...</td>\n",
              "      <td>3</td>\n",
              "      <td>2</td>\n",
              "      <td>2</td>\n",
              "      <td>1</td>\n",
              "      <td>1</td>\n",
              "      <td>5</td>\n",
              "      <td>2</td>\n",
              "      <td>15</td>\n",
              "      <td>14</td>\n",
              "      <td>15</td>\n",
              "    </tr>\n",
              "    <tr>\n",
              "      <th>4</th>\n",
              "      <td>GP</td>\n",
              "      <td>F</td>\n",
              "      <td>16</td>\n",
              "      <td>U</td>\n",
              "      <td>GT3</td>\n",
              "      <td>T</td>\n",
              "      <td>3</td>\n",
              "      <td>3</td>\n",
              "      <td>other</td>\n",
              "      <td>other</td>\n",
              "      <td>...</td>\n",
              "      <td>4</td>\n",
              "      <td>3</td>\n",
              "      <td>2</td>\n",
              "      <td>1</td>\n",
              "      <td>2</td>\n",
              "      <td>5</td>\n",
              "      <td>4</td>\n",
              "      <td>6</td>\n",
              "      <td>10</td>\n",
              "      <td>10</td>\n",
              "    </tr>\n",
              "    <tr>\n",
              "      <th>...</th>\n",
              "      <td>...</td>\n",
              "      <td>...</td>\n",
              "      <td>...</td>\n",
              "      <td>...</td>\n",
              "      <td>...</td>\n",
              "      <td>...</td>\n",
              "      <td>...</td>\n",
              "      <td>...</td>\n",
              "      <td>...</td>\n",
              "      <td>...</td>\n",
              "      <td>...</td>\n",
              "      <td>...</td>\n",
              "      <td>...</td>\n",
              "      <td>...</td>\n",
              "      <td>...</td>\n",
              "      <td>...</td>\n",
              "      <td>...</td>\n",
              "      <td>...</td>\n",
              "      <td>...</td>\n",
              "      <td>...</td>\n",
              "      <td>...</td>\n",
              "    </tr>\n",
              "    <tr>\n",
              "      <th>390</th>\n",
              "      <td>MS</td>\n",
              "      <td>M</td>\n",
              "      <td>20</td>\n",
              "      <td>U</td>\n",
              "      <td>LE3</td>\n",
              "      <td>A</td>\n",
              "      <td>2</td>\n",
              "      <td>2</td>\n",
              "      <td>services</td>\n",
              "      <td>services</td>\n",
              "      <td>...</td>\n",
              "      <td>5</td>\n",
              "      <td>5</td>\n",
              "      <td>4</td>\n",
              "      <td>4</td>\n",
              "      <td>5</td>\n",
              "      <td>4</td>\n",
              "      <td>11</td>\n",
              "      <td>9</td>\n",
              "      <td>9</td>\n",
              "      <td>9</td>\n",
              "    </tr>\n",
              "    <tr>\n",
              "      <th>391</th>\n",
              "      <td>MS</td>\n",
              "      <td>M</td>\n",
              "      <td>17</td>\n",
              "      <td>U</td>\n",
              "      <td>LE3</td>\n",
              "      <td>T</td>\n",
              "      <td>3</td>\n",
              "      <td>1</td>\n",
              "      <td>services</td>\n",
              "      <td>services</td>\n",
              "      <td>...</td>\n",
              "      <td>2</td>\n",
              "      <td>4</td>\n",
              "      <td>5</td>\n",
              "      <td>3</td>\n",
              "      <td>4</td>\n",
              "      <td>2</td>\n",
              "      <td>3</td>\n",
              "      <td>14</td>\n",
              "      <td>16</td>\n",
              "      <td>16</td>\n",
              "    </tr>\n",
              "    <tr>\n",
              "      <th>392</th>\n",
              "      <td>MS</td>\n",
              "      <td>M</td>\n",
              "      <td>21</td>\n",
              "      <td>R</td>\n",
              "      <td>GT3</td>\n",
              "      <td>T</td>\n",
              "      <td>1</td>\n",
              "      <td>1</td>\n",
              "      <td>other</td>\n",
              "      <td>other</td>\n",
              "      <td>...</td>\n",
              "      <td>5</td>\n",
              "      <td>5</td>\n",
              "      <td>3</td>\n",
              "      <td>3</td>\n",
              "      <td>3</td>\n",
              "      <td>3</td>\n",
              "      <td>3</td>\n",
              "      <td>10</td>\n",
              "      <td>8</td>\n",
              "      <td>7</td>\n",
              "    </tr>\n",
              "    <tr>\n",
              "      <th>393</th>\n",
              "      <td>MS</td>\n",
              "      <td>M</td>\n",
              "      <td>18</td>\n",
              "      <td>R</td>\n",
              "      <td>LE3</td>\n",
              "      <td>T</td>\n",
              "      <td>3</td>\n",
              "      <td>2</td>\n",
              "      <td>services</td>\n",
              "      <td>other</td>\n",
              "      <td>...</td>\n",
              "      <td>4</td>\n",
              "      <td>4</td>\n",
              "      <td>1</td>\n",
              "      <td>3</td>\n",
              "      <td>4</td>\n",
              "      <td>5</td>\n",
              "      <td>0</td>\n",
              "      <td>11</td>\n",
              "      <td>12</td>\n",
              "      <td>10</td>\n",
              "    </tr>\n",
              "    <tr>\n",
              "      <th>394</th>\n",
              "      <td>MS</td>\n",
              "      <td>M</td>\n",
              "      <td>19</td>\n",
              "      <td>U</td>\n",
              "      <td>LE3</td>\n",
              "      <td>T</td>\n",
              "      <td>1</td>\n",
              "      <td>1</td>\n",
              "      <td>other</td>\n",
              "      <td>at_home</td>\n",
              "      <td>...</td>\n",
              "      <td>3</td>\n",
              "      <td>2</td>\n",
              "      <td>3</td>\n",
              "      <td>3</td>\n",
              "      <td>3</td>\n",
              "      <td>5</td>\n",
              "      <td>5</td>\n",
              "      <td>8</td>\n",
              "      <td>9</td>\n",
              "      <td>9</td>\n",
              "    </tr>\n",
              "  </tbody>\n",
              "</table>\n",
              "<p>395 rows × 33 columns</p>\n",
              "</div>\n",
              "      <button class=\"colab-df-convert\" onclick=\"convertToInteractive('df-b18841b1-7d4a-48a4-a69f-d117bf968a13')\"\n",
              "              title=\"Convert this dataframe to an interactive table.\"\n",
              "              style=\"display:none;\">\n",
              "        \n",
              "  <svg xmlns=\"http://www.w3.org/2000/svg\" height=\"24px\"viewBox=\"0 0 24 24\"\n",
              "       width=\"24px\">\n",
              "    <path d=\"M0 0h24v24H0V0z\" fill=\"none\"/>\n",
              "    <path d=\"M18.56 5.44l.94 2.06.94-2.06 2.06-.94-2.06-.94-.94-2.06-.94 2.06-2.06.94zm-11 1L8.5 8.5l.94-2.06 2.06-.94-2.06-.94L8.5 2.5l-.94 2.06-2.06.94zm10 10l.94 2.06.94-2.06 2.06-.94-2.06-.94-.94-2.06-.94 2.06-2.06.94z\"/><path d=\"M17.41 7.96l-1.37-1.37c-.4-.4-.92-.59-1.43-.59-.52 0-1.04.2-1.43.59L10.3 9.45l-7.72 7.72c-.78.78-.78 2.05 0 2.83L4 21.41c.39.39.9.59 1.41.59.51 0 1.02-.2 1.41-.59l7.78-7.78 2.81-2.81c.8-.78.8-2.07 0-2.86zM5.41 20L4 18.59l7.72-7.72 1.47 1.35L5.41 20z\"/>\n",
              "  </svg>\n",
              "      </button>\n",
              "      \n",
              "  <style>\n",
              "    .colab-df-container {\n",
              "      display:flex;\n",
              "      flex-wrap:wrap;\n",
              "      gap: 12px;\n",
              "    }\n",
              "\n",
              "    .colab-df-convert {\n",
              "      background-color: #E8F0FE;\n",
              "      border: none;\n",
              "      border-radius: 50%;\n",
              "      cursor: pointer;\n",
              "      display: none;\n",
              "      fill: #1967D2;\n",
              "      height: 32px;\n",
              "      padding: 0 0 0 0;\n",
              "      width: 32px;\n",
              "    }\n",
              "\n",
              "    .colab-df-convert:hover {\n",
              "      background-color: #E2EBFA;\n",
              "      box-shadow: 0px 1px 2px rgba(60, 64, 67, 0.3), 0px 1px 3px 1px rgba(60, 64, 67, 0.15);\n",
              "      fill: #174EA6;\n",
              "    }\n",
              "\n",
              "    [theme=dark] .colab-df-convert {\n",
              "      background-color: #3B4455;\n",
              "      fill: #D2E3FC;\n",
              "    }\n",
              "\n",
              "    [theme=dark] .colab-df-convert:hover {\n",
              "      background-color: #434B5C;\n",
              "      box-shadow: 0px 1px 3px 1px rgba(0, 0, 0, 0.15);\n",
              "      filter: drop-shadow(0px 1px 2px rgba(0, 0, 0, 0.3));\n",
              "      fill: #FFFFFF;\n",
              "    }\n",
              "  </style>\n",
              "\n",
              "      <script>\n",
              "        const buttonEl =\n",
              "          document.querySelector('#df-b18841b1-7d4a-48a4-a69f-d117bf968a13 button.colab-df-convert');\n",
              "        buttonEl.style.display =\n",
              "          google.colab.kernel.accessAllowed ? 'block' : 'none';\n",
              "\n",
              "        async function convertToInteractive(key) {\n",
              "          const element = document.querySelector('#df-b18841b1-7d4a-48a4-a69f-d117bf968a13');\n",
              "          const dataTable =\n",
              "            await google.colab.kernel.invokeFunction('convertToInteractive',\n",
              "                                                     [key], {});\n",
              "          if (!dataTable) return;\n",
              "\n",
              "          const docLinkHtml = 'Like what you see? Visit the ' +\n",
              "            '<a target=\"_blank\" href=https://colab.research.google.com/notebooks/data_table.ipynb>data table notebook</a>'\n",
              "            + ' to learn more about interactive tables.';\n",
              "          element.innerHTML = '';\n",
              "          dataTable['output_type'] = 'display_data';\n",
              "          await google.colab.output.renderOutput(dataTable, element);\n",
              "          const docLink = document.createElement('div');\n",
              "          docLink.innerHTML = docLinkHtml;\n",
              "          element.appendChild(docLink);\n",
              "        }\n",
              "      </script>\n",
              "    </div>\n",
              "  </div>\n",
              "  "
            ]
          },
          "metadata": {},
          "execution_count": 2
        }
      ],
      "source": [
        "df=pd.read_csv(\"/content/student-mat (1).csv\",sep=';')\n",
        "df"
      ]
    },
    {
      "cell_type": "code",
      "execution_count": null,
      "metadata": {
        "colab": {
          "base_uri": "https://localhost:8080/"
        },
        "id": "nSE6_KYUHXk6",
        "outputId": "f0c660bb-b69c-45cd-e7dd-497e3e636343"
      },
      "outputs": [
        {
          "output_type": "execute_result",
          "data": {
            "text/plain": [
              "school        0\n",
              "sex           0\n",
              "age           0\n",
              "address       0\n",
              "famsize       0\n",
              "Pstatus       0\n",
              "Medu          0\n",
              "Fedu          0\n",
              "Mjob          0\n",
              "Fjob          0\n",
              "reason        0\n",
              "guardian      0\n",
              "traveltime    0\n",
              "studytime     0\n",
              "failures      0\n",
              "schoolsup     0\n",
              "famsup        0\n",
              "paid          0\n",
              "activities    0\n",
              "nursery       0\n",
              "higher        0\n",
              "internet      0\n",
              "romantic      0\n",
              "famrel        0\n",
              "freetime      0\n",
              "goout         0\n",
              "Dalc          0\n",
              "Walc          0\n",
              "health        0\n",
              "absences      0\n",
              "G1            0\n",
              "G2            0\n",
              "G3            0\n",
              "dtype: int64"
            ]
          },
          "metadata": {},
          "execution_count": 3
        }
      ],
      "source": [
        "df.isna().sum()"
      ]
    },
    {
      "cell_type": "code",
      "execution_count": null,
      "metadata": {
        "colab": {
          "base_uri": "https://localhost:8080/"
        },
        "id": "YkDcu7qyHcCZ",
        "outputId": "90f9ade1-c473-4aba-ffb9-7fb5699dac21"
      },
      "outputs": [
        {
          "output_type": "stream",
          "name": "stdout",
          "text": [
            "['GP' 'MS']\n",
            "GP    349\n",
            "MS     46\n",
            "Name: school, dtype: int64\n",
            "['F' 'M']\n",
            "F    208\n",
            "M    187\n",
            "Name: sex, dtype: int64\n",
            "[18 17 15 16 19 22 20 21]\n",
            "16    104\n",
            "17     98\n",
            "18     82\n",
            "15     82\n",
            "19     24\n",
            "20      3\n",
            "22      1\n",
            "21      1\n",
            "Name: age, dtype: int64\n",
            "['U' 'R']\n",
            "U    307\n",
            "R     88\n",
            "Name: address, dtype: int64\n",
            "['GT3' 'LE3']\n",
            "GT3    281\n",
            "LE3    114\n",
            "Name: famsize, dtype: int64\n",
            "['A' 'T']\n",
            "T    354\n",
            "A     41\n",
            "Name: Pstatus, dtype: int64\n",
            "[4 1 3 2 0]\n",
            "4    131\n",
            "2    103\n",
            "3     99\n",
            "1     59\n",
            "0      3\n",
            "Name: Medu, dtype: int64\n",
            "[4 1 2 3 0]\n",
            "2    115\n",
            "3    100\n",
            "4     96\n",
            "1     82\n",
            "0      2\n",
            "Name: Fedu, dtype: int64\n",
            "['at_home' 'health' 'other' 'services' 'teacher']\n",
            "other       141\n",
            "services    103\n",
            "at_home      59\n",
            "teacher      58\n",
            "health       34\n",
            "Name: Mjob, dtype: int64\n",
            "['teacher' 'other' 'services' 'health' 'at_home']\n",
            "other       217\n",
            "services    111\n",
            "teacher      29\n",
            "at_home      20\n",
            "health       18\n",
            "Name: Fjob, dtype: int64\n",
            "['course' 'other' 'home' 'reputation']\n",
            "course        145\n",
            "home          109\n",
            "reputation    105\n",
            "other          36\n",
            "Name: reason, dtype: int64\n",
            "['mother' 'father' 'other']\n",
            "mother    273\n",
            "father     90\n",
            "other      32\n",
            "Name: guardian, dtype: int64\n",
            "[2 1 3 4]\n",
            "1    257\n",
            "2    107\n",
            "3     23\n",
            "4      8\n",
            "Name: traveltime, dtype: int64\n",
            "[2 3 1 4]\n",
            "2    198\n",
            "1    105\n",
            "3     65\n",
            "4     27\n",
            "Name: studytime, dtype: int64\n",
            "[0 3 2 1]\n",
            "0    312\n",
            "1     50\n",
            "2     17\n",
            "3     16\n",
            "Name: failures, dtype: int64\n",
            "['yes' 'no']\n",
            "no     344\n",
            "yes     51\n",
            "Name: schoolsup, dtype: int64\n",
            "['no' 'yes']\n",
            "yes    242\n",
            "no     153\n",
            "Name: famsup, dtype: int64\n",
            "['no' 'yes']\n",
            "no     214\n",
            "yes    181\n",
            "Name: paid, dtype: int64\n",
            "['no' 'yes']\n",
            "yes    201\n",
            "no     194\n",
            "Name: activities, dtype: int64\n",
            "['yes' 'no']\n",
            "yes    314\n",
            "no      81\n",
            "Name: nursery, dtype: int64\n",
            "['yes' 'no']\n",
            "yes    375\n",
            "no      20\n",
            "Name: higher, dtype: int64\n",
            "['no' 'yes']\n",
            "yes    329\n",
            "no      66\n",
            "Name: internet, dtype: int64\n",
            "['no' 'yes']\n",
            "no     263\n",
            "yes    132\n",
            "Name: romantic, dtype: int64\n",
            "[4 5 3 1 2]\n",
            "4    195\n",
            "5    106\n",
            "3     68\n",
            "2     18\n",
            "1      8\n",
            "Name: famrel, dtype: int64\n",
            "[3 2 4 1 5]\n",
            "3    157\n",
            "4    115\n",
            "2     64\n",
            "5     40\n",
            "1     19\n",
            "Name: freetime, dtype: int64\n",
            "[4 3 2 1 5]\n",
            "3    130\n",
            "2    103\n",
            "4     86\n",
            "5     53\n",
            "1     23\n",
            "Name: goout, dtype: int64\n",
            "[1 2 5 3 4]\n",
            "1    276\n",
            "2     75\n",
            "3     26\n",
            "5      9\n",
            "4      9\n",
            "Name: Dalc, dtype: int64\n",
            "[1 3 2 4 5]\n",
            "1    151\n",
            "2     85\n",
            "3     80\n",
            "4     51\n",
            "5     28\n",
            "Name: Walc, dtype: int64\n",
            "[3 5 1 2 4]\n",
            "5    146\n",
            "3     91\n",
            "4     66\n",
            "1     47\n",
            "2     45\n",
            "Name: health, dtype: int64\n",
            "[ 6  4 10  2  0 16 14  7  8 25 12 54 18 26 20 56 24 28  5 13 15 22  3 21\n",
            "  1 75 30 19  9 11 38 40 23 17]\n",
            "0     115\n",
            "2      65\n",
            "4      53\n",
            "6      31\n",
            "8      22\n",
            "10     17\n",
            "14     12\n",
            "12     12\n",
            "3       8\n",
            "16      7\n",
            "7       7\n",
            "5       5\n",
            "18      5\n",
            "20      4\n",
            "11      3\n",
            "9       3\n",
            "13      3\n",
            "15      3\n",
            "22      3\n",
            "1       3\n",
            "38      1\n",
            "30      1\n",
            "40      1\n",
            "23      1\n",
            "19      1\n",
            "28      1\n",
            "75      1\n",
            "21      1\n",
            "24      1\n",
            "56      1\n",
            "26      1\n",
            "54      1\n",
            "25      1\n",
            "17      1\n",
            "Name: absences, dtype: int64\n",
            "[ 5  7 15  6 12 16 14 10 13  8 11  9 17 19 18  4  3]\n",
            "10    51\n",
            "8     41\n",
            "11    39\n",
            "7     37\n",
            "12    35\n",
            "13    33\n",
            "9     31\n",
            "14    30\n",
            "15    24\n",
            "6     24\n",
            "16    22\n",
            "18     8\n",
            "17     8\n",
            "5      7\n",
            "19     3\n",
            "4      1\n",
            "3      1\n",
            "Name: G1, dtype: int64\n",
            "[ 6  5  8 14 10 15 12 18 16 13  9 11  7 19 17  4  0]\n",
            "9     50\n",
            "10    46\n",
            "12    41\n",
            "13    37\n",
            "11    35\n",
            "15    34\n",
            "8     32\n",
            "14    23\n",
            "7     21\n",
            "5     15\n",
            "6     14\n",
            "16    13\n",
            "0     13\n",
            "18    12\n",
            "17     5\n",
            "19     3\n",
            "4      1\n",
            "Name: G2, dtype: int64\n",
            "[ 6 10 15 11 19  9 12 14 16  5  8 17 18 13 20  7  0  4]\n",
            "10    56\n",
            "11    47\n",
            "0     38\n",
            "15    33\n",
            "8     32\n",
            "13    31\n",
            "12    31\n",
            "9     28\n",
            "14    27\n",
            "16    16\n",
            "6     15\n",
            "18    12\n",
            "7      9\n",
            "5      7\n",
            "17     6\n",
            "19     5\n",
            "20     1\n",
            "4      1\n",
            "Name: G3, dtype: int64\n"
          ]
        }
      ],
      "source": [
        "df.iloc[:,32]\n",
        "for i in range(df.shape[1]):\n",
        "  print(df.iloc[:,i].unique())\n",
        "  print(df.iloc[:,i].value_counts())"
      ]
    },
    {
      "cell_type": "code",
      "execution_count": null,
      "metadata": {
        "colab": {
          "base_uri": "https://localhost:8080/"
        },
        "id": "VYLQ3xxtjdDv",
        "outputId": "bba7933f-5fb9-4811-bb67-5e950b3d3fc5"
      },
      "outputs": [
        {
          "output_type": "execute_result",
          "data": {
            "text/plain": [
              "0     115\n",
              "2      65\n",
              "4      53\n",
              "6      31\n",
              "8      22\n",
              "10     17\n",
              "14     12\n",
              "12     12\n",
              "3       8\n",
              "16      7\n",
              "7       7\n",
              "5       5\n",
              "18      5\n",
              "20      4\n",
              "11      3\n",
              "9       3\n",
              "13      3\n",
              "15      3\n",
              "22      3\n",
              "1       3\n",
              "38      1\n",
              "30      1\n",
              "40      1\n",
              "23      1\n",
              "19      1\n",
              "28      1\n",
              "75      1\n",
              "21      1\n",
              "24      1\n",
              "56      1\n",
              "26      1\n",
              "54      1\n",
              "25      1\n",
              "17      1\n",
              "Name: absences, dtype: int64"
            ]
          },
          "metadata": {},
          "execution_count": 5
        }
      ],
      "source": [
        "df.absences.value_counts()"
      ]
    },
    {
      "cell_type": "code",
      "execution_count": null,
      "metadata": {
        "colab": {
          "base_uri": "https://localhost:8080/",
          "height": 364
        },
        "id": "Hz9uYyOZ7duo",
        "outputId": "f35bca59-3b59-4d99-8271-39b6c7d84fd9"
      },
      "outputs": [
        {
          "output_type": "execute_result",
          "data": {
            "text/plain": [
              "              age        Medu        Fedu  traveltime   studytime    failures  \\\n",
              "count  395.000000  395.000000  395.000000  395.000000  395.000000  395.000000   \n",
              "mean    16.696203    2.749367    2.521519    1.448101    2.035443    0.334177   \n",
              "std      1.276043    1.094735    1.088201    0.697505    0.839240    0.743651   \n",
              "min     15.000000    0.000000    0.000000    1.000000    1.000000    0.000000   \n",
              "25%     16.000000    2.000000    2.000000    1.000000    1.000000    0.000000   \n",
              "50%     17.000000    3.000000    2.000000    1.000000    2.000000    0.000000   \n",
              "75%     18.000000    4.000000    3.000000    2.000000    2.000000    0.000000   \n",
              "max     22.000000    4.000000    4.000000    4.000000    4.000000    3.000000   \n",
              "\n",
              "           famrel    freetime       goout        Dalc        Walc      health  \\\n",
              "count  395.000000  395.000000  395.000000  395.000000  395.000000  395.000000   \n",
              "mean     3.944304    3.235443    3.108861    1.481013    2.291139    3.554430   \n",
              "std      0.896659    0.998862    1.113278    0.890741    1.287897    1.390303   \n",
              "min      1.000000    1.000000    1.000000    1.000000    1.000000    1.000000   \n",
              "25%      4.000000    3.000000    2.000000    1.000000    1.000000    3.000000   \n",
              "50%      4.000000    3.000000    3.000000    1.000000    2.000000    4.000000   \n",
              "75%      5.000000    4.000000    4.000000    2.000000    3.000000    5.000000   \n",
              "max      5.000000    5.000000    5.000000    5.000000    5.000000    5.000000   \n",
              "\n",
              "         absences          G1          G2          G3  \n",
              "count  395.000000  395.000000  395.000000  395.000000  \n",
              "mean     5.708861   10.908861   10.713924   10.415190  \n",
              "std      8.003096    3.319195    3.761505    4.581443  \n",
              "min      0.000000    3.000000    0.000000    0.000000  \n",
              "25%      0.000000    8.000000    9.000000    8.000000  \n",
              "50%      4.000000   11.000000   11.000000   11.000000  \n",
              "75%      8.000000   13.000000   13.000000   14.000000  \n",
              "max     75.000000   19.000000   19.000000   20.000000  "
            ],
            "text/html": [
              "\n",
              "  <div id=\"df-96ce404d-cc77-4acd-bd68-1228512e9478\">\n",
              "    <div class=\"colab-df-container\">\n",
              "      <div>\n",
              "<style scoped>\n",
              "    .dataframe tbody tr th:only-of-type {\n",
              "        vertical-align: middle;\n",
              "    }\n",
              "\n",
              "    .dataframe tbody tr th {\n",
              "        vertical-align: top;\n",
              "    }\n",
              "\n",
              "    .dataframe thead th {\n",
              "        text-align: right;\n",
              "    }\n",
              "</style>\n",
              "<table border=\"1\" class=\"dataframe\">\n",
              "  <thead>\n",
              "    <tr style=\"text-align: right;\">\n",
              "      <th></th>\n",
              "      <th>age</th>\n",
              "      <th>Medu</th>\n",
              "      <th>Fedu</th>\n",
              "      <th>traveltime</th>\n",
              "      <th>studytime</th>\n",
              "      <th>failures</th>\n",
              "      <th>famrel</th>\n",
              "      <th>freetime</th>\n",
              "      <th>goout</th>\n",
              "      <th>Dalc</th>\n",
              "      <th>Walc</th>\n",
              "      <th>health</th>\n",
              "      <th>absences</th>\n",
              "      <th>G1</th>\n",
              "      <th>G2</th>\n",
              "      <th>G3</th>\n",
              "    </tr>\n",
              "  </thead>\n",
              "  <tbody>\n",
              "    <tr>\n",
              "      <th>count</th>\n",
              "      <td>395.000000</td>\n",
              "      <td>395.000000</td>\n",
              "      <td>395.000000</td>\n",
              "      <td>395.000000</td>\n",
              "      <td>395.000000</td>\n",
              "      <td>395.000000</td>\n",
              "      <td>395.000000</td>\n",
              "      <td>395.000000</td>\n",
              "      <td>395.000000</td>\n",
              "      <td>395.000000</td>\n",
              "      <td>395.000000</td>\n",
              "      <td>395.000000</td>\n",
              "      <td>395.000000</td>\n",
              "      <td>395.000000</td>\n",
              "      <td>395.000000</td>\n",
              "      <td>395.000000</td>\n",
              "    </tr>\n",
              "    <tr>\n",
              "      <th>mean</th>\n",
              "      <td>16.696203</td>\n",
              "      <td>2.749367</td>\n",
              "      <td>2.521519</td>\n",
              "      <td>1.448101</td>\n",
              "      <td>2.035443</td>\n",
              "      <td>0.334177</td>\n",
              "      <td>3.944304</td>\n",
              "      <td>3.235443</td>\n",
              "      <td>3.108861</td>\n",
              "      <td>1.481013</td>\n",
              "      <td>2.291139</td>\n",
              "      <td>3.554430</td>\n",
              "      <td>5.708861</td>\n",
              "      <td>10.908861</td>\n",
              "      <td>10.713924</td>\n",
              "      <td>10.415190</td>\n",
              "    </tr>\n",
              "    <tr>\n",
              "      <th>std</th>\n",
              "      <td>1.276043</td>\n",
              "      <td>1.094735</td>\n",
              "      <td>1.088201</td>\n",
              "      <td>0.697505</td>\n",
              "      <td>0.839240</td>\n",
              "      <td>0.743651</td>\n",
              "      <td>0.896659</td>\n",
              "      <td>0.998862</td>\n",
              "      <td>1.113278</td>\n",
              "      <td>0.890741</td>\n",
              "      <td>1.287897</td>\n",
              "      <td>1.390303</td>\n",
              "      <td>8.003096</td>\n",
              "      <td>3.319195</td>\n",
              "      <td>3.761505</td>\n",
              "      <td>4.581443</td>\n",
              "    </tr>\n",
              "    <tr>\n",
              "      <th>min</th>\n",
              "      <td>15.000000</td>\n",
              "      <td>0.000000</td>\n",
              "      <td>0.000000</td>\n",
              "      <td>1.000000</td>\n",
              "      <td>1.000000</td>\n",
              "      <td>0.000000</td>\n",
              "      <td>1.000000</td>\n",
              "      <td>1.000000</td>\n",
              "      <td>1.000000</td>\n",
              "      <td>1.000000</td>\n",
              "      <td>1.000000</td>\n",
              "      <td>1.000000</td>\n",
              "      <td>0.000000</td>\n",
              "      <td>3.000000</td>\n",
              "      <td>0.000000</td>\n",
              "      <td>0.000000</td>\n",
              "    </tr>\n",
              "    <tr>\n",
              "      <th>25%</th>\n",
              "      <td>16.000000</td>\n",
              "      <td>2.000000</td>\n",
              "      <td>2.000000</td>\n",
              "      <td>1.000000</td>\n",
              "      <td>1.000000</td>\n",
              "      <td>0.000000</td>\n",
              "      <td>4.000000</td>\n",
              "      <td>3.000000</td>\n",
              "      <td>2.000000</td>\n",
              "      <td>1.000000</td>\n",
              "      <td>1.000000</td>\n",
              "      <td>3.000000</td>\n",
              "      <td>0.000000</td>\n",
              "      <td>8.000000</td>\n",
              "      <td>9.000000</td>\n",
              "      <td>8.000000</td>\n",
              "    </tr>\n",
              "    <tr>\n",
              "      <th>50%</th>\n",
              "      <td>17.000000</td>\n",
              "      <td>3.000000</td>\n",
              "      <td>2.000000</td>\n",
              "      <td>1.000000</td>\n",
              "      <td>2.000000</td>\n",
              "      <td>0.000000</td>\n",
              "      <td>4.000000</td>\n",
              "      <td>3.000000</td>\n",
              "      <td>3.000000</td>\n",
              "      <td>1.000000</td>\n",
              "      <td>2.000000</td>\n",
              "      <td>4.000000</td>\n",
              "      <td>4.000000</td>\n",
              "      <td>11.000000</td>\n",
              "      <td>11.000000</td>\n",
              "      <td>11.000000</td>\n",
              "    </tr>\n",
              "    <tr>\n",
              "      <th>75%</th>\n",
              "      <td>18.000000</td>\n",
              "      <td>4.000000</td>\n",
              "      <td>3.000000</td>\n",
              "      <td>2.000000</td>\n",
              "      <td>2.000000</td>\n",
              "      <td>0.000000</td>\n",
              "      <td>5.000000</td>\n",
              "      <td>4.000000</td>\n",
              "      <td>4.000000</td>\n",
              "      <td>2.000000</td>\n",
              "      <td>3.000000</td>\n",
              "      <td>5.000000</td>\n",
              "      <td>8.000000</td>\n",
              "      <td>13.000000</td>\n",
              "      <td>13.000000</td>\n",
              "      <td>14.000000</td>\n",
              "    </tr>\n",
              "    <tr>\n",
              "      <th>max</th>\n",
              "      <td>22.000000</td>\n",
              "      <td>4.000000</td>\n",
              "      <td>4.000000</td>\n",
              "      <td>4.000000</td>\n",
              "      <td>4.000000</td>\n",
              "      <td>3.000000</td>\n",
              "      <td>5.000000</td>\n",
              "      <td>5.000000</td>\n",
              "      <td>5.000000</td>\n",
              "      <td>5.000000</td>\n",
              "      <td>5.000000</td>\n",
              "      <td>5.000000</td>\n",
              "      <td>75.000000</td>\n",
              "      <td>19.000000</td>\n",
              "      <td>19.000000</td>\n",
              "      <td>20.000000</td>\n",
              "    </tr>\n",
              "  </tbody>\n",
              "</table>\n",
              "</div>\n",
              "      <button class=\"colab-df-convert\" onclick=\"convertToInteractive('df-96ce404d-cc77-4acd-bd68-1228512e9478')\"\n",
              "              title=\"Convert this dataframe to an interactive table.\"\n",
              "              style=\"display:none;\">\n",
              "        \n",
              "  <svg xmlns=\"http://www.w3.org/2000/svg\" height=\"24px\"viewBox=\"0 0 24 24\"\n",
              "       width=\"24px\">\n",
              "    <path d=\"M0 0h24v24H0V0z\" fill=\"none\"/>\n",
              "    <path d=\"M18.56 5.44l.94 2.06.94-2.06 2.06-.94-2.06-.94-.94-2.06-.94 2.06-2.06.94zm-11 1L8.5 8.5l.94-2.06 2.06-.94-2.06-.94L8.5 2.5l-.94 2.06-2.06.94zm10 10l.94 2.06.94-2.06 2.06-.94-2.06-.94-.94-2.06-.94 2.06-2.06.94z\"/><path d=\"M17.41 7.96l-1.37-1.37c-.4-.4-.92-.59-1.43-.59-.52 0-1.04.2-1.43.59L10.3 9.45l-7.72 7.72c-.78.78-.78 2.05 0 2.83L4 21.41c.39.39.9.59 1.41.59.51 0 1.02-.2 1.41-.59l7.78-7.78 2.81-2.81c.8-.78.8-2.07 0-2.86zM5.41 20L4 18.59l7.72-7.72 1.47 1.35L5.41 20z\"/>\n",
              "  </svg>\n",
              "      </button>\n",
              "      \n",
              "  <style>\n",
              "    .colab-df-container {\n",
              "      display:flex;\n",
              "      flex-wrap:wrap;\n",
              "      gap: 12px;\n",
              "    }\n",
              "\n",
              "    .colab-df-convert {\n",
              "      background-color: #E8F0FE;\n",
              "      border: none;\n",
              "      border-radius: 50%;\n",
              "      cursor: pointer;\n",
              "      display: none;\n",
              "      fill: #1967D2;\n",
              "      height: 32px;\n",
              "      padding: 0 0 0 0;\n",
              "      width: 32px;\n",
              "    }\n",
              "\n",
              "    .colab-df-convert:hover {\n",
              "      background-color: #E2EBFA;\n",
              "      box-shadow: 0px 1px 2px rgba(60, 64, 67, 0.3), 0px 1px 3px 1px rgba(60, 64, 67, 0.15);\n",
              "      fill: #174EA6;\n",
              "    }\n",
              "\n",
              "    [theme=dark] .colab-df-convert {\n",
              "      background-color: #3B4455;\n",
              "      fill: #D2E3FC;\n",
              "    }\n",
              "\n",
              "    [theme=dark] .colab-df-convert:hover {\n",
              "      background-color: #434B5C;\n",
              "      box-shadow: 0px 1px 3px 1px rgba(0, 0, 0, 0.15);\n",
              "      filter: drop-shadow(0px 1px 2px rgba(0, 0, 0, 0.3));\n",
              "      fill: #FFFFFF;\n",
              "    }\n",
              "  </style>\n",
              "\n",
              "      <script>\n",
              "        const buttonEl =\n",
              "          document.querySelector('#df-96ce404d-cc77-4acd-bd68-1228512e9478 button.colab-df-convert');\n",
              "        buttonEl.style.display =\n",
              "          google.colab.kernel.accessAllowed ? 'block' : 'none';\n",
              "\n",
              "        async function convertToInteractive(key) {\n",
              "          const element = document.querySelector('#df-96ce404d-cc77-4acd-bd68-1228512e9478');\n",
              "          const dataTable =\n",
              "            await google.colab.kernel.invokeFunction('convertToInteractive',\n",
              "                                                     [key], {});\n",
              "          if (!dataTable) return;\n",
              "\n",
              "          const docLinkHtml = 'Like what you see? Visit the ' +\n",
              "            '<a target=\"_blank\" href=https://colab.research.google.com/notebooks/data_table.ipynb>data table notebook</a>'\n",
              "            + ' to learn more about interactive tables.';\n",
              "          element.innerHTML = '';\n",
              "          dataTable['output_type'] = 'display_data';\n",
              "          await google.colab.output.renderOutput(dataTable, element);\n",
              "          const docLink = document.createElement('div');\n",
              "          docLink.innerHTML = docLinkHtml;\n",
              "          element.appendChild(docLink);\n",
              "        }\n",
              "      </script>\n",
              "    </div>\n",
              "  </div>\n",
              "  "
            ]
          },
          "metadata": {},
          "execution_count": 6
        }
      ],
      "source": [
        "df.describe()"
      ]
    },
    {
      "cell_type": "markdown",
      "metadata": {
        "id": "eI-Srloel-Ps"
      },
      "source": [
        "1.HOW DOES ABSENCES EFFECT TO G3"
      ]
    },
    {
      "cell_type": "code",
      "execution_count": null,
      "metadata": {
        "colab": {
          "base_uri": "https://localhost:8080/",
          "height": 288
        },
        "id": "D2ba2pCWi2l1",
        "outputId": "05c13224-3fd7-4e8b-b493-8f26660ceca9"
      },
      "outputs": [
        {
          "output_type": "execute_result",
          "data": {
            "text/plain": [
              "<matplotlib.axes._subplots.AxesSubplot at 0x7f6db9df95d0>"
            ]
          },
          "metadata": {},
          "execution_count": 7
        },
        {
          "output_type": "display_data",
          "data": {
            "text/plain": [
              "<Figure size 432x288 with 1 Axes>"
            ],
            "image/png": "[encoded data removed]"
          },
          "metadata": {
            "needs_background": "light"
          }
        }
      ],
      "source": [
        "df.absences.value_counts().plot(kind='bar')\n"
      ]
    },
    {
      "cell_type": "code",
      "execution_count": null,
      "metadata": {
        "id": "__-bzxOqvKNd"
      },
      "outputs": [],
      "source": []
    },
    {
      "cell_type": "markdown",
      "metadata": {
        "id": "fAb6EtWRRsB_"
      },
      "source": [
        "#DATA CLEANING"
      ]
    },
    {
      "cell_type": "code",
      "execution_count": null,
      "metadata": {
        "colab": {
          "base_uri": "https://localhost:8080/",
          "height": 510
        },
        "id": "j7M6LeznLDgi",
        "outputId": "1973d37f-6f13-4b35-914a-2e2510c911ac"
      },
      "outputs": [
        {
          "output_type": "display_data",
          "data": {
            "text/plain": [
              "<Figure size 1332x612 with 1 Axes>"
            ],
            "image/png": "[encoded data removed]"
          },
          "metadata": {
            "needs_background": "light"
          }
        }
      ],
      "source": [
        "plt.rcParams[\"figure.figsize\"] = [18.50, 8.50]\n",
        "out=sns.boxenplot(data=df)"
      ]
    },
    {
      "cell_type": "code",
      "execution_count": null,
      "metadata": {
        "id": "FaLK8YV4Ldpq"
      },
      "outputs": [],
      "source": [
        "for x in ['absences']:\n",
        "    q75,q25 = np.percentile(df.loc[:,x],[75,25])\n",
        "    intr_qr = q75-q25\n",
        " \n",
        "    max = q75+(3.5*intr_qr)\n",
        "    min = q25-(3.5*intr_qr)\n",
        " \n",
        "    df.loc[df[x] < min,x] = np.nan\n",
        "    df.loc[df[x] > max,x] = np.nan\n",
        "    "
      ]
    },
    {
      "cell_type": "code",
      "execution_count": null,
      "metadata": {
        "id": "k19fAcpGFCrR"
      },
      "outputs": [],
      "source": [
        "for x in ['Fedu','traveltime','studytime','famrel','freetime','Dalc','age','G1','G2','G3']:\n",
        "    q75,q25 = np.percentile(df.loc[:,x],[75,25])\n",
        "    intr_qr = q75-q25\n",
        " \n",
        "    max = q75+(1.5*intr_qr)\n",
        "    min = q25-(1.5*intr_qr)\n",
        "\n",
        "    df.loc[df[x] < min,x] = np.nan\n",
        "    df.loc[df[x] > max,x] = np.nan\n",
        "    \n"
      ]
    },
    {
      "cell_type": "code",
      "execution_count": null,
      "metadata": {
        "id": "xvjf6y2QLsF9"
      },
      "outputs": [],
      "source": [
        "df.dropna(inplace=True)"
      ]
    },
    {
      "cell_type": "code",
      "execution_count": null,
      "metadata": {
        "colab": {
          "base_uri": "https://localhost:8080/",
          "height": 490
        },
        "id": "fMoDvFa1Lwdp",
        "outputId": "d56c14d0-62fc-40ce-8fe8-9435eb3b32fa"
      },
      "outputs": [
        {
          "output_type": "display_data",
          "data": {
            "text/plain": [
              "<Figure size 2052x756 with 1 Axes>"
            ],
            "image/png": "[encoded data removed]"
          },
          "metadata": {
            "needs_background": "light"
          }
        }
      ],
      "source": [
        "plt.rcParams[\"figure.figsize\"] = [28.50, 10.50]\n",
        "out=sns.boxplot(data=df)"
      ]
    },
    {
      "cell_type": "code",
      "execution_count": null,
      "metadata": {
        "colab": {
          "base_uri": "https://localhost:8080/"
        },
        "id": "xwGV9d37GjvU",
        "outputId": "feb97a57-8416-4cf8-8a54-bf8e09b6be31"
      },
      "outputs": [
        {
          "output_type": "execute_result",
          "data": {
            "text/plain": [
              "array([ 6., 10., 15., 11., 19.,  9., 12., 14., 16.,  5.,  8., 17., 18.,\n",
              "       13.,  7.,  0.,  4.])"
            ]
          },
          "metadata": {},
          "execution_count": 13
        }
      ],
      "source": [
        "df.G3.unique()"
      ]
    },
    {
      "cell_type": "code",
      "execution_count": null,
      "metadata": {
        "colab": {
          "base_uri": "https://localhost:8080/",
          "height": 235
        },
        "id": "yNF3P4cuHVo0",
        "outputId": "715f366e-8cd4-4edd-c116-bd7f23f4f58f"
      },
      "outputs": [
        {
          "output_type": "execute_result",
          "data": {
            "text/plain": [
              "  school sex   age address famsize Pstatus  Medu  Fedu     Mjob      Fjob  \\\n",
              "0     GP   F  18.0       U     GT3       A     4   4.0  at_home   teacher   \n",
              "1     GP   F  17.0       U     GT3       T     1   1.0  at_home     other   \n",
              "2     GP   F  15.0       U     LE3       T     1   1.0  at_home     other   \n",
              "3     GP   F  15.0       U     GT3       T     4   2.0   health  services   \n",
              "4     GP   F  16.0       U     GT3       T     3   3.0    other     other   \n",
              "\n",
              "   ... freetime goout  Dalc  Walc  health absences    G1    G2    G3  \\\n",
              "0  ...      3.0     4   1.0     1       3      6.0   5.0   6.0   6.0   \n",
              "1  ...      3.0     3   1.0     1       3      4.0   5.0   5.0   6.0   \n",
              "2  ...      3.0     2   2.0     3       3     10.0   7.0   8.0  10.0   \n",
              "3  ...      2.0     2   1.0     1       5      2.0  15.0  14.0  15.0   \n",
              "4  ...      3.0     2   1.0     2       5      4.0   6.0  10.0  10.0   \n",
              "\n",
              "  final_grade  \n",
              "0        poor  \n",
              "1        poor  \n",
              "2        good  \n",
              "3   excellent  \n",
              "4        good  \n",
              "\n",
              "[5 rows x 34 columns]"
            ],
            "text/html": [
              "\n",
              "  <div id=\"df-cbe866fe-de61-4fa5-9ec2-1e5c1671a50e\">\n",
              "    <div class=\"colab-df-container\">\n",
              "      <div>\n",
              "<style scoped>\n",
              "    .dataframe tbody tr th:only-of-type {\n",
              "        vertical-align: middle;\n",
              "    }\n",
              "\n",
              "    .dataframe tbody tr th {\n",
              "        vertical-align: top;\n",
              "    }\n",
              "\n",
              "    .dataframe thead th {\n",
              "        text-align: right;\n",
              "    }\n",
              "</style>\n",
              "<table border=\"1\" class=\"dataframe\">\n",
              "  <thead>\n",
              "    <tr style=\"text-align: right;\">\n",
              "      <th></th>\n",
              "      <th>school</th>\n",
              "      <th>sex</th>\n",
              "      <th>age</th>\n",
              "      <th>address</th>\n",
              "      <th>famsize</th>\n",
              "      <th>Pstatus</th>\n",
              "      <th>Medu</th>\n",
              "      <th>Fedu</th>\n",
              "      <th>Mjob</th>\n",
              "      <th>Fjob</th>\n",
              "      <th>...</th>\n",
              "      <th>freetime</th>\n",
              "      <th>goout</th>\n",
              "      <th>Dalc</th>\n",
              "      <th>Walc</th>\n",
              "      <th>health</th>\n",
              "      <th>absences</th>\n",
              "      <th>G1</th>\n",
              "      <th>G2</th>\n",
              "      <th>G3</th>\n",
              "      <th>final_grade</th>\n",
              "    </tr>\n",
              "  </thead>\n",
              "  <tbody>\n",
              "    <tr>\n",
              "      <th>0</th>\n",
              "      <td>GP</td>\n",
              "      <td>F</td>\n",
              "      <td>18.0</td>\n",
              "      <td>U</td>\n",
              "      <td>GT3</td>\n",
              "      <td>A</td>\n",
              "      <td>4</td>\n",
              "      <td>4.0</td>\n",
              "      <td>at_home</td>\n",
              "      <td>teacher</td>\n",
              "      <td>...</td>\n",
              "      <td>3.0</td>\n",
              "      <td>4</td>\n",
              "      <td>1.0</td>\n",
              "      <td>1</td>\n",
              "      <td>3</td>\n",
              "      <td>6.0</td>\n",
              "      <td>5.0</td>\n",
              "      <td>6.0</td>\n",
              "      <td>6.0</td>\n",
              "      <td>poor</td>\n",
              "    </tr>\n",
              "    <tr>\n",
              "      <th>1</th>\n",
              "      <td>GP</td>\n",
              "      <td>F</td>\n",
              "      <td>17.0</td>\n",
              "      <td>U</td>\n",
              "      <td>GT3</td>\n",
              "      <td>T</td>\n",
              "      <td>1</td>\n",
              "      <td>1.0</td>\n",
              "      <td>at_home</td>\n",
              "      <td>other</td>\n",
              "      <td>...</td>\n",
              "      <td>3.0</td>\n",
              "      <td>3</td>\n",
              "      <td>1.0</td>\n",
              "      <td>1</td>\n",
              "      <td>3</td>\n",
              "      <td>4.0</td>\n",
              "      <td>5.0</td>\n",
              "      <td>5.0</td>\n",
              "      <td>6.0</td>\n",
              "      <td>poor</td>\n",
              "    </tr>\n",
              "    <tr>\n",
              "      <th>2</th>\n",
              "      <td>GP</td>\n",
              "      <td>F</td>\n",
              "      <td>15.0</td>\n",
              "      <td>U</td>\n",
              "      <td>LE3</td>\n",
              "      <td>T</td>\n",
              "      <td>1</td>\n",
              "      <td>1.0</td>\n",
              "      <td>at_home</td>\n",
              "      <td>other</td>\n",
              "      <td>...</td>\n",
              "      <td>3.0</td>\n",
              "      <td>2</td>\n",
              "      <td>2.0</td>\n",
              "      <td>3</td>\n",
              "      <td>3</td>\n",
              "      <td>10.0</td>\n",
              "      <td>7.0</td>\n",
              "      <td>8.0</td>\n",
              "      <td>10.0</td>\n",
              "      <td>good</td>\n",
              "    </tr>\n",
              "    <tr>\n",
              "      <th>3</th>\n",
              "      <td>GP</td>\n",
              "      <td>F</td>\n",
              "      <td>15.0</td>\n",
              "      <td>U</td>\n",
              "      <td>GT3</td>\n",
              "      <td>T</td>\n",
              "      <td>4</td>\n",
              "      <td>2.0</td>\n",
              "      <td>health</td>\n",
              "      <td>services</td>\n",
              "      <td>...</td>\n",
              "      <td>2.0</td>\n",
              "      <td>2</td>\n",
              "      <td>1.0</td>\n",
              "      <td>1</td>\n",
              "      <td>5</td>\n",
              "      <td>2.0</td>\n",
              "      <td>15.0</td>\n",
              "      <td>14.0</td>\n",
              "      <td>15.0</td>\n",
              "      <td>excellent</td>\n",
              "    </tr>\n",
              "    <tr>\n",
              "      <th>4</th>\n",
              "      <td>GP</td>\n",
              "      <td>F</td>\n",
              "      <td>16.0</td>\n",
              "      <td>U</td>\n",
              "      <td>GT3</td>\n",
              "      <td>T</td>\n",
              "      <td>3</td>\n",
              "      <td>3.0</td>\n",
              "      <td>other</td>\n",
              "      <td>other</td>\n",
              "      <td>...</td>\n",
              "      <td>3.0</td>\n",
              "      <td>2</td>\n",
              "      <td>1.0</td>\n",
              "      <td>2</td>\n",
              "      <td>5</td>\n",
              "      <td>4.0</td>\n",
              "      <td>6.0</td>\n",
              "      <td>10.0</td>\n",
              "      <td>10.0</td>\n",
              "      <td>good</td>\n",
              "    </tr>\n",
              "  </tbody>\n",
              "</table>\n",
              "<p>5 rows × 34 columns</p>\n",
              "</div>\n",
              "      <button class=\"colab-df-convert\" onclick=\"convertToInteractive('df-cbe866fe-de61-4fa5-9ec2-1e5c1671a50e')\"\n",
              "              title=\"Convert this dataframe to an interactive table.\"\n",
              "              style=\"display:none;\">\n",
              "        \n",
              "  <svg xmlns=\"http://www.w3.org/2000/svg\" height=\"24px\"viewBox=\"0 0 24 24\"\n",
              "       width=\"24px\">\n",
              "    <path d=\"M0 0h24v24H0V0z\" fill=\"none\"/>\n",
              "    <path d=\"M18.56 5.44l.94 2.06.94-2.06 2.06-.94-2.06-.94-.94-2.06-.94 2.06-2.06.94zm-11 1L8.5 8.5l.94-2.06 2.06-.94-2.06-.94L8.5 2.5l-.94 2.06-2.06.94zm10 10l.94 2.06.94-2.06 2.06-.94-2.06-.94-.94-2.06-.94 2.06-2.06.94z\"/><path d=\"M17.41 7.96l-1.37-1.37c-.4-.4-.92-.59-1.43-.59-.52 0-1.04.2-1.43.59L10.3 9.45l-7.72 7.72c-.78.78-.78 2.05 0 2.83L4 21.41c.39.39.9.59 1.41.59.51 0 1.02-.2 1.41-.59l7.78-7.78 2.81-2.81c.8-.78.8-2.07 0-2.86zM5.41 20L4 18.59l7.72-7.72 1.47 1.35L5.41 20z\"/>\n",
              "  </svg>\n",
              "      </button>\n",
              "      \n",
              "  <style>\n",
              "    .colab-df-container {\n",
              "      display:flex;\n",
              "      flex-wrap:wrap;\n",
              "      gap: 12px;\n",
              "    }\n",
              "\n",
              "    .colab-df-convert {\n",
              "      background-color: #E8F0FE;\n",
              "      border: none;\n",
              "      border-radius: 50%;\n",
              "      cursor: pointer;\n",
              "      display: none;\n",
              "      fill: #1967D2;\n",
              "      height: 32px;\n",
              "      padding: 0 0 0 0;\n",
              "      width: 32px;\n",
              "    }\n",
              "\n",
              "    .colab-df-convert:hover {\n",
              "      background-color: #E2EBFA;\n",
              "      box-shadow: 0px 1px 2px rgba(60, 64, 67, 0.3), 0px 1px 3px 1px rgba(60, 64, 67, 0.15);\n",
              "      fill: #174EA6;\n",
              "    }\n",
              "\n",
              "    [theme=dark] .colab-df-convert {\n",
              "      background-color: #3B4455;\n",
              "      fill: #D2E3FC;\n",
              "    }\n",
              "\n",
              "    [theme=dark] .colab-df-convert:hover {\n",
              "      background-color: #434B5C;\n",
              "      box-shadow: 0px 1px 3px 1px rgba(0, 0, 0, 0.15);\n",
              "      filter: drop-shadow(0px 1px 2px rgba(0, 0, 0, 0.3));\n",
              "      fill: #FFFFFF;\n",
              "    }\n",
              "  </style>\n",
              "\n",
              "      <script>\n",
              "        const buttonEl =\n",
              "          document.querySelector('#df-cbe866fe-de61-4fa5-9ec2-1e5c1671a50e button.colab-df-convert');\n",
              "        buttonEl.style.display =\n",
              "          google.colab.kernel.accessAllowed ? 'block' : 'none';\n",
              "\n",
              "        async function convertToInteractive(key) {\n",
              "          const element = document.querySelector('#df-cbe866fe-de61-4fa5-9ec2-1e5c1671a50e');\n",
              "          const dataTable =\n",
              "            await google.colab.kernel.invokeFunction('convertToInteractive',\n",
              "                                                     [key], {});\n",
              "          if (!dataTable) return;\n",
              "\n",
              "          const docLinkHtml = 'Like what you see? Visit the ' +\n",
              "            '<a target=\"_blank\" href=https://colab.research.google.com/notebooks/data_table.ipynb>data table notebook</a>'\n",
              "            + ' to learn more about interactive tables.';\n",
              "          element.innerHTML = '';\n",
              "          dataTable['output_type'] = 'display_data';\n",
              "          await google.colab.output.renderOutput(dataTable, element);\n",
              "          const docLink = document.createElement('div');\n",
              "          docLink.innerHTML = docLinkHtml;\n",
              "          element.appendChild(docLink);\n",
              "        }\n",
              "      </script>\n",
              "    </div>\n",
              "  </div>\n",
              "  "
            ]
          },
          "metadata": {},
          "execution_count": 14
        }
      ],
      "source": [
        "df['final_grade'] = 'na'\n",
        "df.loc[(df.G3 >= 15) & (df.G3 <= 20), 'final_grade'] = 'excellent' \n",
        "df.loc[(df.G3 >= 10) & (df.G3 <= 14), 'final_grade'] = 'good' \n",
        "df.loc[(df.G3 >= 7) & (df.G3 <= 9), 'final_grade'] = 'fair' \n",
        "df.loc[(df.G3 >= 0) & (df.G3 <= 6), 'final_grade'] = 'poor' \n",
        "df.head(5)"
      ]
    },
    {
      "cell_type": "code",
      "execution_count": null,
      "metadata": {
        "id": "sWsJmVyhKiYV",
        "colab": {
          "base_uri": "https://localhost:8080/",
          "height": 424
        },
        "outputId": "f40a31dd-23b5-478a-a07f-cbaa8b1c5445"
      },
      "outputs": [
        {
          "output_type": "execute_result",
          "data": {
            "text/plain": [
              "    school sex   age address famsize Pstatus  Medu  Fedu      Mjob      Fjob  \\\n",
              "0       GP   F  18.0       U     GT3       A     4   4.0   at_home   teacher   \n",
              "1       GP   F  17.0       U     GT3       T     1   1.0   at_home     other   \n",
              "2       GP   F  15.0       U     LE3       T     1   1.0   at_home     other   \n",
              "3       GP   F  15.0       U     GT3       T     4   2.0    health  services   \n",
              "4       GP   F  16.0       U     GT3       T     3   3.0     other     other   \n",
              "..     ...  ..   ...     ...     ...     ...   ...   ...       ...       ...   \n",
              "387     MS   F  19.0       R     GT3       T     2   3.0  services     other   \n",
              "388     MS   F  18.0       U     LE3       T     3   1.0   teacher  services   \n",
              "392     MS   M  21.0       R     GT3       T     1   1.0     other     other   \n",
              "393     MS   M  18.0       R     LE3       T     3   2.0  services     other   \n",
              "394     MS   M  19.0       U     LE3       T     1   1.0     other   at_home   \n",
              "\n",
              "     ... freetime goout  Dalc  Walc  health absences    G1    G2    G3  \\\n",
              "0    ...      3.0     4   1.0     1       3      6.0   5.0   6.0   6.0   \n",
              "1    ...      3.0     3   1.0     1       3      4.0   5.0   5.0   6.0   \n",
              "2    ...      3.0     2   2.0     3       3     10.0   7.0   8.0  10.0   \n",
              "3    ...      2.0     2   1.0     1       5      2.0  15.0  14.0  15.0   \n",
              "4    ...      3.0     2   1.0     2       5      4.0   6.0  10.0  10.0   \n",
              "..   ...      ...   ...   ...   ...     ...      ...   ...   ...   ...   \n",
              "387  ...      4.0     2   1.0     2       5      0.0   7.0   5.0   0.0   \n",
              "388  ...      3.0     4   1.0     1       1      0.0   7.0   9.0   8.0   \n",
              "392  ...      5.0     3   3.0     3       3      3.0  10.0   8.0   7.0   \n",
              "393  ...      4.0     1   3.0     4       5      0.0  11.0  12.0  10.0   \n",
              "394  ...      2.0     3   3.0     3       5      5.0   8.0   9.0   9.0   \n",
              "\n",
              "    final_grade  \n",
              "0          poor  \n",
              "1          poor  \n",
              "2          good  \n",
              "3     excellent  \n",
              "4          good  \n",
              "..          ...  \n",
              "387        poor  \n",
              "388        fair  \n",
              "392        fair  \n",
              "393        good  \n",
              "394        fair  \n",
              "\n",
              "[295 rows x 34 columns]"
            ],
            "text/html": [
              "\n",
              "  <div id=\"df-363760e7-93e0-40fb-9fac-7e48852e60f7\">\n",
              "    <div class=\"colab-df-container\">\n",
              "      <div>\n",
              "<style scoped>\n",
              "    .dataframe tbody tr th:only-of-type {\n",
              "        vertical-align: middle;\n",
              "    }\n",
              "\n",
              "    .dataframe tbody tr th {\n",
              "        vertical-align: top;\n",
              "    }\n",
              "\n",
              "    .dataframe thead th {\n",
              "        text-align: right;\n",
              "    }\n",
              "</style>\n",
              "<table border=\"1\" class=\"dataframe\">\n",
              "  <thead>\n",
              "    <tr style=\"text-align: right;\">\n",
              "      <th></th>\n",
              "      <th>school</th>\n",
              "      <th>sex</th>\n",
              "      <th>age</th>\n",
              "      <th>address</th>\n",
              "      <th>famsize</th>\n",
              "      <th>Pstatus</th>\n",
              "      <th>Medu</th>\n",
              "      <th>Fedu</th>\n",
              "      <th>Mjob</th>\n",
              "      <th>Fjob</th>\n",
              "      <th>...</th>\n",
              "      <th>freetime</th>\n",
              "      <th>goout</th>\n",
              "      <th>Dalc</th>\n",
              "      <th>Walc</th>\n",
              "      <th>health</th>\n",
              "      <th>absences</th>\n",
              "      <th>G1</th>\n",
              "      <th>G2</th>\n",
              "      <th>G3</th>\n",
              "      <th>final_grade</th>\n",
              "    </tr>\n",
              "  </thead>\n",
              "  <tbody>\n",
              "    <tr>\n",
              "      <th>0</th>\n",
              "      <td>GP</td>\n",
              "      <td>F</td>\n",
              "      <td>18.0</td>\n",
              "      <td>U</td>\n",
              "      <td>GT3</td>\n",
              "      <td>A</td>\n",
              "      <td>4</td>\n",
              "      <td>4.0</td>\n",
              "      <td>at_home</td>\n",
              "      <td>teacher</td>\n",
              "      <td>...</td>\n",
              "      <td>3.0</td>\n",
              "      <td>4</td>\n",
              "      <td>1.0</td>\n",
              "      <td>1</td>\n",
              "      <td>3</td>\n",
              "      <td>6.0</td>\n",
              "      <td>5.0</td>\n",
              "      <td>6.0</td>\n",
              "      <td>6.0</td>\n",
              "      <td>poor</td>\n",
              "    </tr>\n",
              "    <tr>\n",
              "      <th>1</th>\n",
              "      <td>GP</td>\n",
              "      <td>F</td>\n",
              "      <td>17.0</td>\n",
              "      <td>U</td>\n",
              "      <td>GT3</td>\n",
              "      <td>T</td>\n",
              "      <td>1</td>\n",
              "      <td>1.0</td>\n",
              "      <td>at_home</td>\n",
              "      <td>other</td>\n",
              "      <td>...</td>\n",
              "      <td>3.0</td>\n",
              "      <td>3</td>\n",
              "      <td>1.0</td>\n",
              "      <td>1</td>\n",
              "      <td>3</td>\n",
              "      <td>4.0</td>\n",
              "      <td>5.0</td>\n",
              "      <td>5.0</td>\n",
              "      <td>6.0</td>\n",
              "      <td>poor</td>\n",
              "    </tr>\n",
              "    <tr>\n",
              "      <th>2</th>\n",
              "      <td>GP</td>\n",
              "      <td>F</td>\n",
              "      <td>15.0</td>\n",
              "      <td>U</td>\n",
              "      <td>LE3</td>\n",
              "      <td>T</td>\n",
              "      <td>1</td>\n",
              "      <td>1.0</td>\n",
              "      <td>at_home</td>\n",
              "      <td>other</td>\n",
              "      <td>...</td>\n",
              "      <td>3.0</td>\n",
              "      <td>2</td>\n",
              "      <td>2.0</td>\n",
              "      <td>3</td>\n",
              "      <td>3</td>\n",
              "      <td>10.0</td>\n",
              "      <td>7.0</td>\n",
              "      <td>8.0</td>\n",
              "      <td>10.0</td>\n",
              "      <td>good</td>\n",
              "    </tr>\n",
              "    <tr>\n",
              "      <th>3</th>\n",
              "      <td>GP</td>\n",
              "      <td>F</td>\n",
              "      <td>15.0</td>\n",
              "      <td>U</td>\n",
              "      <td>GT3</td>\n",
              "      <td>T</td>\n",
              "      <td>4</td>\n",
              "      <td>2.0</td>\n",
              "      <td>health</td>\n",
              "      <td>services</td>\n",
              "      <td>...</td>\n",
              "      <td>2.0</td>\n",
              "      <td>2</td>\n",
              "      <td>1.0</td>\n",
              "      <td>1</td>\n",
              "      <td>5</td>\n",
              "      <td>2.0</td>\n",
              "      <td>15.0</td>\n",
              "      <td>14.0</td>\n",
              "      <td>15.0</td>\n",
              "      <td>excellent</td>\n",
              "    </tr>\n",
              "    <tr>\n",
              "      <th>4</th>\n",
              "      <td>GP</td>\n",
              "      <td>F</td>\n",
              "      <td>16.0</td>\n",
              "      <td>U</td>\n",
              "      <td>GT3</td>\n",
              "      <td>T</td>\n",
              "      <td>3</td>\n",
              "      <td>3.0</td>\n",
              "      <td>other</td>\n",
              "      <td>other</td>\n",
              "      <td>...</td>\n",
              "      <td>3.0</td>\n",
              "      <td>2</td>\n",
              "      <td>1.0</td>\n",
              "      <td>2</td>\n",
              "      <td>5</td>\n",
              "      <td>4.0</td>\n",
              "      <td>6.0</td>\n",
              "      <td>10.0</td>\n",
              "      <td>10.0</td>\n",
              "      <td>good</td>\n",
              "    </tr>\n",
              "    <tr>\n",
              "      <th>...</th>\n",
              "      <td>...</td>\n",
              "      <td>...</td>\n",
              "      <td>...</td>\n",
              "      <td>...</td>\n",
              "      <td>...</td>\n",
              "      <td>...</td>\n",
              "      <td>...</td>\n",
              "      <td>...</td>\n",
              "      <td>...</td>\n",
              "      <td>...</td>\n",
              "      <td>...</td>\n",
              "      <td>...</td>\n",
              "      <td>...</td>\n",
              "      <td>...</td>\n",
              "      <td>...</td>\n",
              "      <td>...</td>\n",
              "      <td>...</td>\n",
              "      <td>...</td>\n",
              "      <td>...</td>\n",
              "      <td>...</td>\n",
              "      <td>...</td>\n",
              "    </tr>\n",
              "    <tr>\n",
              "      <th>387</th>\n",
              "      <td>MS</td>\n",
              "      <td>F</td>\n",
              "      <td>19.0</td>\n",
              "      <td>R</td>\n",
              "      <td>GT3</td>\n",
              "      <td>T</td>\n",
              "      <td>2</td>\n",
              "      <td>3.0</td>\n",
              "      <td>services</td>\n",
              "      <td>other</td>\n",
              "      <td>...</td>\n",
              "      <td>4.0</td>\n",
              "      <td>2</td>\n",
              "      <td>1.0</td>\n",
              "      <td>2</td>\n",
              "      <td>5</td>\n",
              "      <td>0.0</td>\n",
              "      <td>7.0</td>\n",
              "      <td>5.0</td>\n",
              "      <td>0.0</td>\n",
              "      <td>poor</td>\n",
              "    </tr>\n",
              "    <tr>\n",
              "      <th>388</th>\n",
              "      <td>MS</td>\n",
              "      <td>F</td>\n",
              "      <td>18.0</td>\n",
              "      <td>U</td>\n",
              "      <td>LE3</td>\n",
              "      <td>T</td>\n",
              "      <td>3</td>\n",
              "      <td>1.0</td>\n",
              "      <td>teacher</td>\n",
              "      <td>services</td>\n",
              "      <td>...</td>\n",
              "      <td>3.0</td>\n",
              "      <td>4</td>\n",
              "      <td>1.0</td>\n",
              "      <td>1</td>\n",
              "      <td>1</td>\n",
              "      <td>0.0</td>\n",
              "      <td>7.0</td>\n",
              "      <td>9.0</td>\n",
              "      <td>8.0</td>\n",
              "      <td>fair</td>\n",
              "    </tr>\n",
              "    <tr>\n",
              "      <th>392</th>\n",
              "      <td>MS</td>\n",
              "      <td>M</td>\n",
              "      <td>21.0</td>\n",
              "      <td>R</td>\n",
              "      <td>GT3</td>\n",
              "      <td>T</td>\n",
              "      <td>1</td>\n",
              "      <td>1.0</td>\n",
              "      <td>other</td>\n",
              "      <td>other</td>\n",
              "      <td>...</td>\n",
              "      <td>5.0</td>\n",
              "      <td>3</td>\n",
              "      <td>3.0</td>\n",
              "      <td>3</td>\n",
              "      <td>3</td>\n",
              "      <td>3.0</td>\n",
              "      <td>10.0</td>\n",
              "      <td>8.0</td>\n",
              "      <td>7.0</td>\n",
              "      <td>fair</td>\n",
              "    </tr>\n",
              "    <tr>\n",
              "      <th>393</th>\n",
              "      <td>MS</td>\n",
              "      <td>M</td>\n",
              "      <td>18.0</td>\n",
              "      <td>R</td>\n",
              "      <td>LE3</td>\n",
              "      <td>T</td>\n",
              "      <td>3</td>\n",
              "      <td>2.0</td>\n",
              "      <td>services</td>\n",
              "      <td>other</td>\n",
              "      <td>...</td>\n",
              "      <td>4.0</td>\n",
              "      <td>1</td>\n",
              "      <td>3.0</td>\n",
              "      <td>4</td>\n",
              "      <td>5</td>\n",
              "      <td>0.0</td>\n",
              "      <td>11.0</td>\n",
              "      <td>12.0</td>\n",
              "      <td>10.0</td>\n",
              "      <td>good</td>\n",
              "    </tr>\n",
              "    <tr>\n",
              "      <th>394</th>\n",
              "      <td>MS</td>\n",
              "      <td>M</td>\n",
              "      <td>19.0</td>\n",
              "      <td>U</td>\n",
              "      <td>LE3</td>\n",
              "      <td>T</td>\n",
              "      <td>1</td>\n",
              "      <td>1.0</td>\n",
              "      <td>other</td>\n",
              "      <td>at_home</td>\n",
              "      <td>...</td>\n",
              "      <td>2.0</td>\n",
              "      <td>3</td>\n",
              "      <td>3.0</td>\n",
              "      <td>3</td>\n",
              "      <td>5</td>\n",
              "      <td>5.0</td>\n",
              "      <td>8.0</td>\n",
              "      <td>9.0</td>\n",
              "      <td>9.0</td>\n",
              "      <td>fair</td>\n",
              "    </tr>\n",
              "  </tbody>\n",
              "</table>\n",
              "<p>295 rows × 34 columns</p>\n",
              "</div>\n",
              "      <button class=\"colab-df-convert\" onclick=\"convertToInteractive('df-363760e7-93e0-40fb-9fac-7e48852e60f7')\"\n",
              "              title=\"Convert this dataframe to an interactive table.\"\n",
              "              style=\"display:none;\">\n",
              "        \n",
              "  <svg xmlns=\"http://www.w3.org/2000/svg\" height=\"24px\"viewBox=\"0 0 24 24\"\n",
              "       width=\"24px\">\n",
              "    <path d=\"M0 0h24v24H0V0z\" fill=\"none\"/>\n",
              "    <path d=\"M18.56 5.44l.94 2.06.94-2.06 2.06-.94-2.06-.94-.94-2.06-.94 2.06-2.06.94zm-11 1L8.5 8.5l.94-2.06 2.06-.94-2.06-.94L8.5 2.5l-.94 2.06-2.06.94zm10 10l.94 2.06.94-2.06 2.06-.94-2.06-.94-.94-2.06-.94 2.06-2.06.94z\"/><path d=\"M17.41 7.96l-1.37-1.37c-.4-.4-.92-.59-1.43-.59-.52 0-1.04.2-1.43.59L10.3 9.45l-7.72 7.72c-.78.78-.78 2.05 0 2.83L4 21.41c.39.39.9.59 1.41.59.51 0 1.02-.2 1.41-.59l7.78-7.78 2.81-2.81c.8-.78.8-2.07 0-2.86zM5.41 20L4 18.59l7.72-7.72 1.47 1.35L5.41 20z\"/>\n",
              "  </svg>\n",
              "      </button>\n",
              "      \n",
              "  <style>\n",
              "    .colab-df-container {\n",
              "      display:flex;\n",
              "      flex-wrap:wrap;\n",
              "      gap: 12px;\n",
              "    }\n",
              "\n",
              "    .colab-df-convert {\n",
              "      background-color: #E8F0FE;\n",
              "      border: none;\n",
              "      border-radius: 50%;\n",
              "      cursor: pointer;\n",
              "      display: none;\n",
              "      fill: #1967D2;\n",
              "      height: 32px;\n",
              "      padding: 0 0 0 0;\n",
              "      width: 32px;\n",
              "    }\n",
              "\n",
              "    .colab-df-convert:hover {\n",
              "      background-color: #E2EBFA;\n",
              "      box-shadow: 0px 1px 2px rgba(60, 64, 67, 0.3), 0px 1px 3px 1px rgba(60, 64, 67, 0.15);\n",
              "      fill: #174EA6;\n",
              "    }\n",
              "\n",
              "    [theme=dark] .colab-df-convert {\n",
              "      background-color: #3B4455;\n",
              "      fill: #D2E3FC;\n",
              "    }\n",
              "\n",
              "    [theme=dark] .colab-df-convert:hover {\n",
              "      background-color: #434B5C;\n",
              "      box-shadow: 0px 1px 3px 1px rgba(0, 0, 0, 0.15);\n",
              "      filter: drop-shadow(0px 1px 2px rgba(0, 0, 0, 0.3));\n",
              "      fill: #FFFFFF;\n",
              "    }\n",
              "  </style>\n",
              "\n",
              "      <script>\n",
              "        const buttonEl =\n",
              "          document.querySelector('#df-363760e7-93e0-40fb-9fac-7e48852e60f7 button.colab-df-convert');\n",
              "        buttonEl.style.display =\n",
              "          google.colab.kernel.accessAllowed ? 'block' : 'none';\n",
              "\n",
              "        async function convertToInteractive(key) {\n",
              "          const element = document.querySelector('#df-363760e7-93e0-40fb-9fac-7e48852e60f7');\n",
              "          const dataTable =\n",
              "            await google.colab.kernel.invokeFunction('convertToInteractive',\n",
              "                                                     [key], {});\n",
              "          if (!dataTable) return;\n",
              "\n",
              "          const docLinkHtml = 'Like what you see? Visit the ' +\n",
              "            '<a target=\"_blank\" href=https://colab.research.google.com/notebooks/data_table.ipynb>data table notebook</a>'\n",
              "            + ' to learn more about interactive tables.';\n",
              "          element.innerHTML = '';\n",
              "          dataTable['output_type'] = 'display_data';\n",
              "          await google.colab.output.renderOutput(dataTable, element);\n",
              "          const docLink = document.createElement('div');\n",
              "          docLink.innerHTML = docLinkHtml;\n",
              "          element.appendChild(docLink);\n",
              "        }\n",
              "      </script>\n",
              "    </div>\n",
              "  </div>\n",
              "  "
            ]
          },
          "metadata": {},
          "execution_count": 15
        }
      ],
      "source": [
        "df"
      ]
    },
    {
      "cell_type": "markdown",
      "metadata": {
        "id": "SmRh9LGcHMUS"
      },
      "source": [
        "#EDA"
      ]
    },
    {
      "cell_type": "markdown",
      "metadata": {
        "id": "b5dJD69zHQJI"
      },
      "source": []
    },
    {
      "cell_type": "code",
      "execution_count": null,
      "metadata": {
        "id": "LSVcO4XnvUrt"
      },
      "outputs": [],
      "source": []
    },
    {
      "cell_type": "markdown",
      "metadata": {
        "id": "UFkQmlbVmNKF"
      },
      "source": [
        "2.WHAT IS THE PERFORMANCE OF THE STUDENTS?"
      ]
    },
    {
      "cell_type": "code",
      "execution_count": null,
      "metadata": {
        "id": "dnIxfCupJ6Fa",
        "colab": {
          "base_uri": "https://localhost:8080/",
          "height": 533
        },
        "outputId": "a7db5a80-38a3-4980-abf7-b7230ab7e7ce"
      },
      "outputs": [
        {
          "output_type": "execute_result",
          "data": {
            "text/plain": [
              "<matplotlib.axes._subplots.AxesSubplot at 0x7f6db6e9f450>"
            ]
          },
          "metadata": {},
          "execution_count": 16
        },
        {
          "output_type": "display_data",
          "data": {
            "text/plain": [
              "<Figure size 2052x756 with 1 Axes>"
            ],
            "image/png": "[encoded data removed]"
          },
          "metadata": {
            "needs_background": "light"
          }
        }
      ],
      "source": [
        "#sns.scatterplot(['grade'],data=df)\n",
        "df.final_grade.value_counts().plot(kind='bar')\n"
      ]
    },
    {
      "cell_type": "markdown",
      "metadata": {
        "id": "qktgDwjEmptz"
      },
      "source": [
        "3.HOW DOES AGE OF THE STUDENTS EFFECTS THEIR GRADES"
      ]
    },
    {
      "cell_type": "code",
      "execution_count": null,
      "metadata": {
        "id": "eoX04S1uHK78",
        "colab": {
          "base_uri": "https://localhost:8080/",
          "height": 512
        },
        "outputId": "7a13e087-1e4f-49c9-d235-001b7ab13f17"
      },
      "outputs": [
        {
          "output_type": "execute_result",
          "data": {
            "text/plain": [
              "<matplotlib.axes._subplots.AxesSubplot at 0x7f6db6c86a10>"
            ]
          },
          "metadata": {},
          "execution_count": 17
        },
        {
          "output_type": "display_data",
          "data": {
            "text/plain": [
              "<Figure size 2052x756 with 1 Axes>"
            ],
            "image/png": "[encoded data removed]"
          },
          "metadata": {
            "needs_background": "light"
          }
        }
      ],
      "source": [
        "sns.barplot(x='final_grade',y='age',data=df)"
      ]
    },
    {
      "cell_type": "markdown",
      "metadata": {
        "id": "iJKyfPxAmzYb"
      },
      "source": [
        "4.ON WHAT SCALE DOES THE CONSUMPTION OF ALOCOHOL DIFFER FOR WEEKEND AND WEEKDAYS"
      ]
    },
    {
      "cell_type": "code",
      "execution_count": null,
      "metadata": {
        "id": "7kdXDr71cWbu",
        "colab": {
          "base_uri": "https://localhost:8080/",
          "height": 502
        },
        "outputId": "679cafc6-8a2f-4cce-e2fb-63d4236f689e"
      },
      "outputs": [
        {
          "output_type": "execute_result",
          "data": {
            "text/plain": [
              "<matplotlib.axes._subplots.AxesSubplot at 0x7f6db6c0a110>"
            ]
          },
          "metadata": {},
          "execution_count": 18
        },
        {
          "output_type": "display_data",
          "data": {
            "text/plain": [
              "<Figure size 2052x756 with 1 Axes>"
            ],
            "image/png": "[encoded data removed]"
          },
          "metadata": {
            "needs_background": "light"
          }
        }
      ],
      "source": [
        "df.Walc.value_counts().plot(kind='bar',color='green')\n"
      ]
    },
    {
      "cell_type": "code",
      "execution_count": null,
      "metadata": {
        "id": "_mQv-5meUAU2"
      },
      "outputs": [],
      "source": []
    },
    {
      "cell_type": "code",
      "execution_count": null,
      "metadata": {
        "id": "cVJrmWuonRNm",
        "colab": {
          "base_uri": "https://localhost:8080/",
          "height": 510
        },
        "outputId": "b4aeb4e3-d6dd-4eae-93e7-a6c2f4739a65"
      },
      "outputs": [
        {
          "output_type": "execute_result",
          "data": {
            "text/plain": [
              "<matplotlib.axes._subplots.AxesSubplot at 0x7f6db6b8c950>"
            ]
          },
          "metadata": {},
          "execution_count": 19
        },
        {
          "output_type": "display_data",
          "data": {
            "text/plain": [
              "<Figure size 2052x756 with 1 Axes>"
            ],
            "image/png": "[encoded data removed]"
          },
          "metadata": {
            "needs_background": "light"
          }
        }
      ],
      "source": [
        "df.Dalc.value_counts().plot(kind='bar',color='purple')"
      ]
    },
    {
      "cell_type": "markdown",
      "metadata": {
        "id": "FkaKKlqnpLH-"
      },
      "source": [
        "5.HOW DOES ALCOHOL CONSUMPTION EFFECT THEIR FINAL GRADES ?"
      ]
    },
    {
      "cell_type": "code",
      "execution_count": null,
      "metadata": {
        "id": "MRlinxPkdcfX"
      },
      "outputs": [],
      "source": [
        "perc = (lambda col: col/col.sum())\n",
        "index = ['excellent','good','fair','poor']\n",
        "Walc_pd1 = pd.crosstab(index=df.final_grade, columns=df.Walc)\n",
        "Walc_pd = np.log(Walc_pd1)\n",
        "Walc_perc = Walc_pd.apply(perc).reindex(index)"
      ]
    },
    {
      "cell_type": "code",
      "execution_count": null,
      "metadata": {
        "colab": {
          "base_uri": "https://localhost:8080/",
          "height": 603
        },
        "id": "1mG_lgajpii2",
        "outputId": "22aad656-606d-4b5d-aeb6-f071c0fa442a"
      },
      "outputs": [
        {
          "output_type": "display_data",
          "data": {
            "text/plain": [
              "<Figure size 2052x756 with 0 Axes>"
            ]
          },
          "metadata": {}
        },
        {
          "output_type": "display_data",
          "data": {
            "text/plain": [
              "<Figure size 576x576 with 1 Axes>"
            ],
            "image/png": "[encoded data removed]"
          },
          "metadata": {
            "needs_background": "light"
          }
        }
      ],
      "source": [
        "plt.figure()\n",
        "Walc_perc.plot.bar(colormap=\"PiYG_r\", fontsize=16, figsize=(8,8))\n",
        "plt.title('Final Grade By alcochol Status', fontsize=20)\n",
        "plt.ylabel('Percentage of Logarithm Student Counts ', fontsize=16)\n",
        "plt.xlabel('Final Grade', fontsize=16)\n",
        "plt.show()"
      ]
    },
    {
      "cell_type": "markdown",
      "metadata": {
        "id": "Lvw0BeYKv73S"
      },
      "source": []
    },
    {
      "cell_type": "code",
      "execution_count": null,
      "metadata": {
        "id": "CFUKq5rJv5tY"
      },
      "outputs": [],
      "source": [
        "perc = (lambda col: col/col.sum())\n",
        "index = ['excellent','good','fair','poor']\n",
        "address_pd1 = pd.crosstab(index=df.final_grade, columns=df.address)\n",
        "address_pd = np.log(address_pd1)\n",
        "address_perc = address_pd.apply(perc).reindex(index)"
      ]
    },
    {
      "cell_type": "code",
      "execution_count": null,
      "metadata": {
        "colab": {
          "base_uri": "https://localhost:8080/",
          "height": 603
        },
        "id": "RC6En-diwNi6",
        "outputId": "6794b766-6f8f-4dff-c1d7-297795130392"
      },
      "outputs": [
        {
          "output_type": "display_data",
          "data": {
            "text/plain": [
              "<Figure size 2052x756 with 0 Axes>"
            ]
          },
          "metadata": {}
        },
        {
          "output_type": "display_data",
          "data": {
            "text/plain": [
              "<Figure size 576x576 with 1 Axes>"
            ],
            "image/png": "[encoded data removed]"
          },
          "metadata": {
            "needs_background": "light"
          }
        }
      ],
      "source": [
        "plt.figure()\n",
        "address_perc.plot.bar(colormap=\"PiYG_r\", fontsize=16, figsize=(8,8))\n",
        "plt.title('Final Grade By their address', fontsize=20)\n",
        "plt.ylabel('Percentage of Logarithm Student Counts ', fontsize=16)\n",
        "plt.xlabel('Final Grade', fontsize=16)\n",
        "plt.show()"
      ]
    },
    {
      "cell_type": "code",
      "execution_count": null,
      "metadata": {
        "id": "y8XSGClXSydJ"
      },
      "outputs": [],
      "source": [
        "perc = (lambda col: col/col.sum())\n",
        "index = ['excellent','good','fair','poor']\n",
        "sex_pd1 = pd.crosstab(index=df.final_grade, columns=df.sex)\n",
        "sex_pd = np.log(sex_pd1)\n",
        "sex_perc = sex_pd.apply(perc).reindex(index)"
      ]
    },
    {
      "cell_type": "code",
      "execution_count": null,
      "metadata": {
        "colab": {
          "base_uri": "https://localhost:8080/",
          "height": 603
        },
        "id": "RKhTrzj5S0pM",
        "outputId": "dffd3b25-9578-4d19-efc3-d3a3b1eb8eb8"
      },
      "outputs": [
        {
          "output_type": "display_data",
          "data": {
            "text/plain": [
              "<Figure size 2052x756 with 0 Axes>"
            ]
          },
          "metadata": {}
        },
        {
          "output_type": "display_data",
          "data": {
            "text/plain": [
              "<Figure size 576x576 with 1 Axes>"
            ],
            "image/png": "[encoded data removed]"
          },
          "metadata": {
            "needs_background": "light"
          }
        }
      ],
      "source": [
        "plt.figure()\n",
        "sex_perc.plot.bar(colormap=\"PiYG_r\", fontsize=16, figsize=(8,8))\n",
        "plt.title('Final Grade By their gender', fontsize=20)\n",
        "plt.ylabel('Percentage of Logarithm Student Counts ', fontsize=16)\n",
        "plt.xlabel('Final Grade', fontsize=16)\n",
        "plt.show()"
      ]
    },
    {
      "cell_type": "markdown",
      "metadata": {
        "id": "FOLAHWMOptjK"
      },
      "source": [
        "6.WHAT IS THE HEALTH CONDITION OF THE STUDENTS AND HOW DOES THEIR HEALTH EFFECT THEIR GRADES?"
      ]
    },
    {
      "cell_type": "code",
      "execution_count": null,
      "metadata": {
        "colab": {
          "base_uri": "https://localhost:8080/",
          "height": 619
        },
        "id": "ZM-cnU2-eijI",
        "outputId": "8866ffd6-8e21-430b-b095-673edc2571e5"
      },
      "outputs": [
        {
          "output_type": "execute_result",
          "data": {
            "text/plain": [
              "<function matplotlib.pyplot.show(*args, **kw)>"
            ]
          },
          "metadata": {},
          "execution_count": 26
        },
        {
          "output_type": "display_data",
          "data": {
            "text/plain": [
              "<Figure size 2052x756 with 1 Axes>"
            ],
            "image/png": "[encoded data removed]"
          },
          "metadata": {}
        }
      ],
      "source": [
        "c=df.groupby(\"health\")[\"health\"].count()\n",
        "plt.pie(c,labels=c.index,autopct=\"%3f\")\n",
        "plt.show\n"
      ]
    },
    {
      "cell_type": "code",
      "execution_count": null,
      "metadata": {
        "id": "SIlL0E-fgUSS"
      },
      "outputs": [],
      "source": [
        "perc = (lambda col: col/col.sum())\n",
        "index = ['excellent','good','fair','poor']\n",
        "health_pd1 = pd.crosstab(index=df.final_grade, columns=df.health)\n",
        "health_pd = np.log(health_pd1)\n",
        "health_perc = health_pd.apply(perc).reindex(index)"
      ]
    },
    {
      "cell_type": "code",
      "execution_count": null,
      "metadata": {
        "colab": {
          "base_uri": "https://localhost:8080/",
          "height": 603
        },
        "id": "QFY_XiZhgm4A",
        "outputId": "25cf7cbd-dcca-42a0-a3ec-705e7b01c13a"
      },
      "outputs": [
        {
          "output_type": "display_data",
          "data": {
            "text/plain": [
              "<Figure size 2052x756 with 0 Axes>"
            ]
          },
          "metadata": {}
        },
        {
          "output_type": "display_data",
          "data": {
            "text/plain": [
              "<Figure size 576x576 with 1 Axes>"
            ],
            "image/png": "[encoded data removed]"
          },
          "metadata": {
            "needs_background": "light"
          }
        }
      ],
      "source": [
        "plt.figure()\n",
        "health_perc.plot.bar(colormap=\"PiYG_r\", fontsize=16, figsize=(8,8))\n",
        "plt.title('Final Grade By activity Status', fontsize=20)\n",
        "plt.ylabel('Percentage of Logarithm Student Counts ', fontsize=16)\n",
        "plt.xlabel('Final Grade', fontsize=16)\n",
        "plt.show()"
      ]
    },
    {
      "cell_type": "markdown",
      "metadata": {
        "id": "_tnYfyWrqnT0"
      },
      "source": [
        "7.DOES ENGAGING IN VARIOUS ACTIVITIES INFLUENCE THEIR STUDIES?"
      ]
    },
    {
      "cell_type": "code",
      "execution_count": null,
      "metadata": {
        "id": "_Tg5oodBMSPq"
      },
      "outputs": [],
      "source": [
        "\n",
        "perc = (lambda col: col/col.sum())\n",
        "index = ['excellent','good','fair','poor']\n",
        "activity_pd1 = pd.crosstab(index=df.final_grade, columns=df.activities)\n",
        "activity_pd = np.log(activity_pd1)\n",
        "activity_perc = activity_pd.apply(perc).reindex(index)"
      ]
    },
    {
      "cell_type": "code",
      "execution_count": null,
      "metadata": {
        "colab": {
          "base_uri": "https://localhost:8080/",
          "height": 603
        },
        "id": "Bz6aIqNlNf9H",
        "outputId": "7fc8a5ed-5b3b-42ea-f6b3-8345c9468614"
      },
      "outputs": [
        {
          "output_type": "display_data",
          "data": {
            "text/plain": [
              "<Figure size 2052x756 with 0 Axes>"
            ]
          },
          "metadata": {}
        },
        {
          "output_type": "display_data",
          "data": {
            "text/plain": [
              "<Figure size 576x576 with 1 Axes>"
            ],
            "image/png": "[encoded data removed]"
          },
          "metadata": {
            "needs_background": "light"
          }
        }
      ],
      "source": [
        "plt.figure()\n",
        "activity_perc.plot.bar(colormap=\"PiYG_r\", fontsize=16, figsize=(8,8))\n",
        "plt.title('Final Grade By activity Status', fontsize=20)\n",
        "plt.ylabel('Percentage of Logarithm Student Counts ', fontsize=16)\n",
        "plt.xlabel('Final Grade', fontsize=16)\n",
        "plt.show()"
      ]
    },
    {
      "cell_type": "markdown",
      "metadata": {
        "id": "W_U-fPQArYHH"
      },
      "source": [
        "8.DOES GOING OUT REALLY EFFECT THE STUDY TIME"
      ]
    },
    {
      "cell_type": "code",
      "execution_count": null,
      "metadata": {
        "colab": {
          "base_uri": "https://localhost:8080/",
          "height": 540
        },
        "id": "CZ6X2jddt2lI",
        "outputId": "cc39a825-580f-48dc-f1cb-aef1e74bf420"
      },
      "outputs": [
        {
          "output_type": "execute_result",
          "data": {
            "text/plain": [
              "Text(0.5, 0, 'goout')"
            ]
          },
          "metadata": {},
          "execution_count": 31
        },
        {
          "output_type": "display_data",
          "data": {
            "text/plain": [
              "<Figure size 864x576 with 1 Axes>"
            ],
            "image/png": "[encoded data removed]"
          },
          "metadata": {
            "needs_background": "light"
          }
        }
      ],
      "source": [
        "plt.figure(figsize=(12,8))\n",
        "sns.barplot(x='goout', y='studytime', data=df)\n",
        "plt.title('Distribution Of Study Time By goout ', fontsize=20)\n",
        "plt.ylabel('Study Time', fontsize=16)\n",
        "plt.xlabel('goout', fontsize=16)"
      ]
    },
    {
      "cell_type": "markdown",
      "metadata": {
        "id": "FQy0EeI-xtKI"
      },
      "source": [
        "family"
      ]
    },
    {
      "cell_type": "code",
      "execution_count": null,
      "metadata": {
        "id": "abWfgdJWxIMB"
      },
      "outputs": [],
      "source": [
        "perc = (lambda col: col/col.sum())\n",
        "index = ['excellent','good','fair','poor']\n",
        "famsize_pd1 = pd.crosstab(index=df.final_grade, columns=df.famsize)\n",
        "famsize_pd = np.log(famsize_pd1)\n",
        "famsize_perc = famsize_pd.apply(perc).reindex(index)"
      ]
    },
    {
      "cell_type": "code",
      "execution_count": null,
      "metadata": {
        "colab": {
          "base_uri": "https://localhost:8080/",
          "height": 603
        },
        "id": "vnSiHuWvxYYs",
        "outputId": "40db1a2f-171f-4417-8c7e-368715fe1c04"
      },
      "outputs": [
        {
          "output_type": "display_data",
          "data": {
            "text/plain": [
              "<Figure size 2052x756 with 0 Axes>"
            ]
          },
          "metadata": {}
        },
        {
          "output_type": "display_data",
          "data": {
            "text/plain": [
              "<Figure size 576x576 with 1 Axes>"
            ],
            "image/png": "[encoded data removed]"
          },
          "metadata": {
            "needs_background": "light"
          }
        }
      ],
      "source": [
        "plt.figure()\n",
        "famsize_perc.plot.bar(colormap=\"PiYG_r\", fontsize=16, figsize=(8,8))\n",
        "plt.title('Final Grade By family size', fontsize=20)\n",
        "plt.ylabel('Percentage of Logarithm Student Counts ', fontsize=16)\n",
        "plt.xlabel('Final Grade', fontsize=16)\n",
        "plt.show()"
      ]
    },
    {
      "cell_type": "code",
      "execution_count": null,
      "metadata": {
        "id": "ZGxsOX9dxyGO"
      },
      "outputs": [],
      "source": [
        "perc = (lambda col: col/col.sum())\n",
        "index = ['excellent','good','fair','poor']\n",
        "Pstatus_pd1 = pd.crosstab(index=df.final_grade, columns=df.Pstatus)\n",
        "Pstatus_pd = np.log(Pstatus_pd1)\n",
        "Pstatus_perc = Pstatus_pd.apply(perc).reindex(index)"
      ]
    },
    {
      "cell_type": "code",
      "execution_count": null,
      "metadata": {
        "colab": {
          "base_uri": "https://localhost:8080/",
          "height": 603
        },
        "id": "3tcbPf9Mx16B",
        "outputId": "85012ec0-d02d-4a02-a292-27dd6dac9a12"
      },
      "outputs": [
        {
          "output_type": "display_data",
          "data": {
            "text/plain": [
              "<Figure size 2052x756 with 0 Axes>"
            ]
          },
          "metadata": {}
        },
        {
          "output_type": "display_data",
          "data": {
            "text/plain": [
              "<Figure size 576x576 with 1 Axes>"
            ],
            "image/png": "[encoded data removed]"
          },
          "metadata": {
            "needs_background": "light"
          }
        }
      ],
      "source": [
        "plt.figure()\n",
        "Pstatus_perc.plot.bar(colormap=\"PiYG_r\", fontsize=16, figsize=(8,8))\n",
        "plt.title('Final Grade By Parents cohabitation status', fontsize=20)\n",
        "plt.ylabel('Percentage of Logarithm Student Counts ', fontsize=16)\n",
        "plt.xlabel('Final Grade', fontsize=16)\n",
        "plt.show()"
      ]
    },
    {
      "cell_type": "markdown",
      "metadata": {
        "id": "O7MAJ612ydEU"
      },
      "source": [
        "mother education"
      ]
    },
    {
      "cell_type": "code",
      "execution_count": null,
      "metadata": {
        "id": "FVsrjE6AyNMI"
      },
      "outputs": [],
      "source": [
        "perc = (lambda col: col/col.sum())\n",
        "index = ['excellent','good','fair','poor']\n",
        "Medu_pd1 = pd.crosstab(index=df.final_grade, columns=df.Medu)\n",
        "Medu_pd = np.log(Medu_pd1)\n",
        "Medu_perc = Medu_pd.apply(perc).reindex(index)"
      ]
    },
    {
      "cell_type": "code",
      "execution_count": null,
      "metadata": {
        "colab": {
          "base_uri": "https://localhost:8080/",
          "height": 603
        },
        "id": "8Z3yDhBFyb34",
        "outputId": "62dffef5-4cda-4015-9e2c-4fd02e9c06b0"
      },
      "outputs": [
        {
          "output_type": "display_data",
          "data": {
            "text/plain": [
              "<Figure size 2052x756 with 0 Axes>"
            ]
          },
          "metadata": {}
        },
        {
          "output_type": "display_data",
          "data": {
            "text/plain": [
              "<Figure size 576x576 with 1 Axes>"
            ],
            "image/png": "[encoded data removed]"
          },
          "metadata": {
            "needs_background": "light"
          }
        }
      ],
      "source": [
        "plt.figure()\n",
        "Medu_perc.plot.bar(colormap=\"PiYG_r\", fontsize=16, figsize=(8,8))\n",
        "plt.title('Final Grade By mother education', fontsize=20)\n",
        "plt.ylabel('Percentage of Logarithm Student Counts ', fontsize=16)\n",
        "plt.xlabel('Final Grade', fontsize=16)\n",
        "plt.show()"
      ]
    },
    {
      "cell_type": "markdown",
      "metadata": {
        "id": "ylnIW2gfy1KU"
      },
      "source": [
        "father education"
      ]
    },
    {
      "cell_type": "code",
      "execution_count": null,
      "metadata": {
        "id": "NX8Vwx4GyqsL"
      },
      "outputs": [],
      "source": [
        "perc = (lambda col: col/col.sum())\n",
        "index = ['excellent','good','fair','poor']\n",
        "Fedu_pd1 = pd.crosstab(index=df.final_grade, columns=df.Fedu)\n",
        "Fedu_pd = np.log(Fedu_pd1)\n",
        "Fedu_perc = Fedu_pd.apply(perc).reindex(index)"
      ]
    },
    {
      "cell_type": "code",
      "execution_count": null,
      "metadata": {
        "colab": {
          "base_uri": "https://localhost:8080/",
          "height": 603
        },
        "id": "I-VUiAZVyxXw",
        "outputId": "92710e45-db7f-4124-e3e2-5e20fe711f42"
      },
      "outputs": [
        {
          "output_type": "display_data",
          "data": {
            "text/plain": [
              "<Figure size 2052x756 with 0 Axes>"
            ]
          },
          "metadata": {}
        },
        {
          "output_type": "display_data",
          "data": {
            "text/plain": [
              "<Figure size 576x576 with 1 Axes>"
            ],
            "image/png": "[encoded data removed]"
          },
          "metadata": {
            "needs_background": "light"
          }
        }
      ],
      "source": [
        "plt.figure()\n",
        "Fedu_perc.plot.bar(colormap=\"PiYG_r\", fontsize=16, figsize=(8,8))\n",
        "plt.title('Final Grade By mother education', fontsize=20)\n",
        "plt.ylabel('Percentage of Logarithm Student Counts ', fontsize=16)\n",
        "plt.xlabel('Final Grade', fontsize=16)\n",
        "plt.show()"
      ]
    },
    {
      "cell_type": "markdown",
      "metadata": {
        "id": "gdw_cjkZzwVO"
      },
      "source": [
        "Father job"
      ]
    },
    {
      "cell_type": "code",
      "execution_count": null,
      "metadata": {
        "id": "H_dIqGrvy8d6"
      },
      "outputs": [],
      "source": [
        "perc = (lambda col: col/col.sum())\n",
        "index = ['excellent','good','fair','poor']\n",
        "Fjob_pd1 = pd.crosstab(index=df.final_grade, columns=df.Fjob)\n",
        "Fjob_pd = np.log(Fjob_pd1)\n",
        "Fob_perc = Fjob_pd.apply(perc).reindex(index)"
      ]
    },
    {
      "cell_type": "code",
      "execution_count": null,
      "metadata": {
        "colab": {
          "base_uri": "https://localhost:8080/",
          "height": 603
        },
        "id": "vhzYkIUrzFzf",
        "outputId": "efd8ead8-ceb8-485f-9c4b-26c04c21fee7"
      },
      "outputs": [
        {
          "output_type": "display_data",
          "data": {
            "text/plain": [
              "<Figure size 2052x756 with 0 Axes>"
            ]
          },
          "metadata": {}
        },
        {
          "output_type": "display_data",
          "data": {
            "text/plain": [
              "<Figure size 576x576 with 1 Axes>"
            ],
            "image/png": "[encoded data removed]"
          },
          "metadata": {
            "needs_background": "light"
          }
        }
      ],
      "source": [
        "plt.figure()\n",
        "Fob_perc.plot.bar(colormap=\"PiYG_r\", fontsize=16, figsize=(8,8))\n",
        "plt.title('Final Grade By father job', fontsize=20)\n",
        "plt.ylabel('Percentage of Logarithm Student Counts ', fontsize=16)\n",
        "plt.xlabel('Final Grade', fontsize=16)\n",
        "plt.show()"
      ]
    },
    {
      "cell_type": "markdown",
      "metadata": {
        "id": "hpDzzG_5z0d4"
      },
      "source": [
        "Mother job"
      ]
    },
    {
      "cell_type": "code",
      "execution_count": null,
      "metadata": {
        "id": "8EGolj7_zf2M"
      },
      "outputs": [],
      "source": [
        "perc = (lambda col: col/col.sum())\n",
        "index = ['excellent','good','fair','poor']\n",
        "Mjob_pd1 = pd.crosstab(index=df.final_grade, columns=df.Mjob)\n",
        "Mjob_pd = np.log(Fjob_pd1)\n",
        "Mjob_perc = Mjob_pd.apply(perc).reindex(index)"
      ]
    },
    {
      "cell_type": "code",
      "execution_count": null,
      "metadata": {
        "colab": {
          "base_uri": "https://localhost:8080/",
          "height": 603
        },
        "id": "VyPBW6oazgtm",
        "outputId": "253a7200-e6fd-43bf-987f-555fd7ede1e9"
      },
      "outputs": [
        {
          "output_type": "display_data",
          "data": {
            "text/plain": [
              "<Figure size 2052x756 with 0 Axes>"
            ]
          },
          "metadata": {}
        },
        {
          "output_type": "display_data",
          "data": {
            "text/plain": [
              "<Figure size 576x576 with 1 Axes>"
            ],
            "image/png": "[encoded data removed]"
          },
          "metadata": {
            "needs_background": "light"
          }
        }
      ],
      "source": [
        "plt.figure()\n",
        "Mjob_perc.plot.bar(colormap=\"PiYG_r\", fontsize=16, figsize=(8,8))\n",
        "plt.title('Final Grade By mother job', fontsize=20)\n",
        "plt.ylabel('Percentage of Logarithm Student Counts ', fontsize=16)\n",
        "plt.xlabel('Final Grade', fontsize=16)\n",
        "plt.show()"
      ]
    },
    {
      "cell_type": "markdown",
      "metadata": {
        "id": "WK2GHrrV0Pgw"
      },
      "source": [
        "9.RELATION BETWEEN AGE VS G1 AND G2"
      ]
    },
    {
      "cell_type": "code",
      "execution_count": null,
      "metadata": {
        "colab": {
          "base_uri": "https://localhost:8080/",
          "height": 567
        },
        "id": "F8E7dP4H0P1-",
        "outputId": "f375a72a-1e17-4099-c525-a898f0558ae5"
      },
      "outputs": [
        {
          "output_type": "stream",
          "name": "stderr",
          "text": [
            "/usr/local/lib/python3.7/dist-packages/seaborn/axisgrid.py:2076: UserWarning: The `size` parameter has been renamed to `height`; please update your code.\n",
            "  warnings.warn(msg, UserWarning)\n"
          ]
        },
        {
          "output_type": "execute_result",
          "data": {
            "text/plain": [
              "<seaborn.axisgrid.PairGrid at 0x7f6db65b0990>"
            ]
          },
          "metadata": {},
          "execution_count": 44
        },
        {
          "output_type": "display_data",
          "data": {
            "text/plain": [
              "<Figure size 705.6x504 with 2 Axes>"
            ],
            "image/png": "[encoded data removed]"
          },
          "metadata": {
            "needs_background": "light"
          }
        }
      ],
      "source": [
        "sns.pairplot(df,x_vars=['G1','G2'],y_vars='G3',size=7,aspect=0.7)"
      ]
    },
    {
      "cell_type": "code",
      "execution_count": null,
      "metadata": {
        "colab": {
          "base_uri": "https://localhost:8080/",
          "height": 550
        },
        "id": "zgf1jDXuWPlR",
        "outputId": "2a00efa4-99b4-42a2-880f-5eafba7b2615"
      },
      "outputs": [
        {
          "output_type": "stream",
          "name": "stderr",
          "text": [
            "/usr/local/lib/python3.7/dist-packages/seaborn/_decorators.py:43: FutureWarning: Pass the following variables as keyword args: x, y. From version 0.12, the only valid positional argument will be `data`, and passing other arguments without an explicit keyword will result in an error or misinterpretation.\n",
            "  FutureWarning\n"
          ]
        },
        {
          "output_type": "display_data",
          "data": {
            "text/plain": [
              "<Figure size 2052x756 with 1 Axes>"
            ],
            "image/png": "[encoded data removed]"
          },
          "metadata": {
            "needs_background": "light"
          }
        }
      ],
      "source": [
        "sns.lineplot(\"goout\",\"Walc\",data=df);"
      ]
    },
    {
      "cell_type": "markdown",
      "metadata": {
        "id": "ICwBZhxcZYyT"
      },
      "source": [
        "Health vs Absences"
      ]
    },
    {
      "cell_type": "code",
      "execution_count": null,
      "metadata": {
        "id": "H0WgrWYCYPHp"
      },
      "outputs": [],
      "source": [
        "x=\"health\"\n",
        "y=\"absences\""
      ]
    },
    {
      "cell_type": "code",
      "execution_count": null,
      "metadata": {
        "colab": {
          "base_uri": "https://localhost:8080/",
          "height": 568
        },
        "id": "7bWNduqjXJv9",
        "outputId": "0714cdda-9f5a-458c-8da6-5bbd173a3769"
      },
      "outputs": [
        {
          "output_type": "stream",
          "name": "stderr",
          "text": [
            "/usr/local/lib/python3.7/dist-packages/seaborn/_decorators.py:43: FutureWarning: Pass the following variable as a keyword arg: y. From version 0.12, the only valid positional argument will be `data`, and passing other arguments without an explicit keyword will result in an error or misinterpretation.\n",
            "  FutureWarning\n"
          ]
        },
        {
          "output_type": "execute_result",
          "data": {
            "text/plain": [
              "<matplotlib.axes._subplots.AxesSubplot at 0x7f6db6791bd0>"
            ]
          },
          "metadata": {},
          "execution_count": 47
        },
        {
          "output_type": "display_data",
          "data": {
            "text/plain": [
              "<Figure size 2052x756 with 1 Axes>"
            ],
            "image/png": "[encoded data removed]"
          },
          "metadata": {
            "needs_background": "light"
          }
        }
      ],
      "source": [
        "sns.kdeplot(x,y,shade=True,data=df)"
      ]
    },
    {
      "cell_type": "code",
      "execution_count": null,
      "metadata": {
        "colab": {
          "base_uri": "https://localhost:8080/",
          "height": 607
        },
        "id": "54dJlu9gampU",
        "outputId": "5c4d0f51-3c27-462f-e0da-9c1aa9867091"
      },
      "outputs": [
        {
          "output_type": "stream",
          "name": "stderr",
          "text": [
            "/usr/local/lib/python3.7/dist-packages/seaborn/distributions.py:2619: FutureWarning: `distplot` is a deprecated function and will be removed in a future version. Please adapt your code to use either `displot` (a figure-level function with similar flexibility) or `histplot` (an axes-level function for histograms).\n",
            "  warnings.warn(msg, FutureWarning)\n",
            "/usr/local/lib/python3.7/dist-packages/seaborn/distributions.py:2103: FutureWarning: The `axis` variable is no longer used and will be removed. Instead, assign variables directly to `x` or `y`.\n",
            "  warnings.warn(msg, FutureWarning)\n"
          ]
        },
        {
          "output_type": "execute_result",
          "data": {
            "text/plain": [
              "<matplotlib.axes._subplots.AxesSubplot at 0x7f6db69c4950>"
            ]
          },
          "metadata": {},
          "execution_count": 48
        },
        {
          "output_type": "display_data",
          "data": {
            "text/plain": [
              "<Figure size 2052x756 with 1 Axes>"
            ],
            "image/png": "[encoded data removed]"
          },
          "metadata": {
            "needs_background": "light"
          }
        }
      ],
      "source": [
        "sns.distplot(df[\"G1\"],kde=False,rug=True)"
      ]
    },
    {
      "cell_type": "code",
      "execution_count": null,
      "metadata": {
        "colab": {
          "base_uri": "https://localhost:8080/",
          "height": 607
        },
        "id": "fV9Okts8bem9",
        "outputId": "955782ed-73a1-4bca-f990-84a4026e92de"
      },
      "outputs": [
        {
          "output_type": "stream",
          "name": "stderr",
          "text": [
            "/usr/local/lib/python3.7/dist-packages/seaborn/distributions.py:2619: FutureWarning: `distplot` is a deprecated function and will be removed in a future version. Please adapt your code to use either `displot` (a figure-level function with similar flexibility) or `histplot` (an axes-level function for histograms).\n",
            "  warnings.warn(msg, FutureWarning)\n",
            "/usr/local/lib/python3.7/dist-packages/seaborn/distributions.py:2103: FutureWarning: The `axis` variable is no longer used and will be removed. Instead, assign variables directly to `x` or `y`.\n",
            "  warnings.warn(msg, FutureWarning)\n"
          ]
        },
        {
          "output_type": "execute_result",
          "data": {
            "text/plain": [
              "<matplotlib.axes._subplots.AxesSubplot at 0x7f6db9c9f210>"
            ]
          },
          "metadata": {},
          "execution_count": 49
        },
        {
          "output_type": "display_data",
          "data": {
            "text/plain": [
              "<Figure size 2052x756 with 1 Axes>"
            ],
            "image/png": "[encoded data removed]"
          },
          "metadata": {
            "needs_background": "light"
          }
        }
      ],
      "source": [
        "sns.distplot(df[\"G2\"],kde=False,rug=True)\n"
      ]
    },
    {
      "cell_type": "code",
      "execution_count": null,
      "metadata": {
        "colab": {
          "base_uri": "https://localhost:8080/",
          "height": 545
        },
        "id": "qO5elMPb_-yf",
        "outputId": "325d9855-3b85-42fc-f68f-41eaf6d75a4f"
      },
      "outputs": [
        {
          "output_type": "execute_result",
          "data": {
            "text/plain": [
              "<matplotlib.axes._subplots.AxesSubplot at 0x7f6db6f96350>"
            ]
          },
          "metadata": {},
          "execution_count": 50
        },
        {
          "output_type": "display_data",
          "data": {
            "text/plain": [
              "<Figure size 1080x576 with 2 Axes>"
            ],
            "image/png": "[encoded data removed]"
          },
          "metadata": {
            "needs_background": "light"
          }
        }
      ],
      "source": [
        "plt.figure(figsize=(15,8))\n",
        "sns.heatmap(df.corr(),annot=True)"
      ]
    },
    {
      "cell_type": "code",
      "execution_count": null,
      "metadata": {
        "id": "JtQ0vu5cHfTW"
      },
      "outputs": [],
      "source": [
        "df['sex']=df.sex.map({'F':1, 'M':0})\n",
        "df['famsize'] = df.famsize.map({'GT3':0, 'LE3':1})\n",
        "df['Pstatus'] = df.Pstatus.map({'T':0, 'A':1})\n",
        "df['address'] = df.address.map({'U':0, 'R':1})\n",
        "df['schoolsup'] = df.schoolsup.map({'yes':0, 'no':1})\n",
        "df['famsup'] = df.famsup.map({'yes':0, 'no':1})\n",
        "df['paid'] = df.paid.map({'yes':0, 'no':1})\n",
        "df['activities'] = df.activities.map({'yes':0, 'no':1})\n",
        "#df['nurserr'] = df.nursery.map({'yes':0, 'no':1})\n",
        "df['higher'] = df.higher.map({'yes':0, 'no':1})\n",
        "df['internet'] = df.internet.map({'yes':0, 'no':1})\n",
        "df['romantic'] = df.romantic.map({'yes':0, 'no':1})\n",
        "df['Fatherjob']=df.Fjob.map({'teacher':1,'health':2,'services':3,'at_home':4,'other':5})\n",
        "df['Motherjob']=df.Mjob.map({'teacher':1,'health':2,'services':3,'at_home':4,'other':5})\n",
        "#df['guardians']=df.guardian.map({'mother':0,'father':1,'other':2})\n",
        "#df['reasons']=df.reason.map({'course':0,'reputataion':1,'home':2,'other':3})\n",
        "df.drop(['nursery','Fjob','Mjob','guardian','reason','final_grade'],axis=1,inplace=True)"
      ]
    },
    {
      "cell_type": "code",
      "execution_count": null,
      "metadata": {
        "colab": {
          "base_uri": "https://localhost:8080/",
          "height": 468
        },
        "id": "eR3RroIiKVvq",
        "outputId": "f5a22a84-fe44-4c62-c0f3-549e7a0decb8"
      },
      "outputs": [
        {
          "output_type": "execute_result",
          "data": {
            "text/plain": [
              "    school  sex   age  address  famsize  Pstatus  Medu  Fedu  traveltime  \\\n",
              "0       GP    1  18.0        0        0        1     4   4.0         2.0   \n",
              "1       GP    1  17.0        0        0        0     1   1.0         1.0   \n",
              "2       GP    1  15.0        0        1        0     1   1.0         1.0   \n",
              "3       GP    1  15.0        0        0        0     4   2.0         1.0   \n",
              "4       GP    1  16.0        0        0        0     3   3.0         1.0   \n",
              "..     ...  ...   ...      ...      ...      ...   ...   ...         ...   \n",
              "387     MS    1  19.0        1        0        0     2   3.0         1.0   \n",
              "388     MS    1  18.0        0        1        0     3   1.0         1.0   \n",
              "392     MS    0  21.0        1        0        0     1   1.0         1.0   \n",
              "393     MS    0  18.0        1        1        0     3   2.0         3.0   \n",
              "394     MS    0  19.0        0        1        0     1   1.0         1.0   \n",
              "\n",
              "     studytime  ...  goout  Dalc  Walc  health  absences    G1    G2    G3  \\\n",
              "0          2.0  ...      4   1.0     1       3       6.0   5.0   6.0   6.0   \n",
              "1          2.0  ...      3   1.0     1       3       4.0   5.0   5.0   6.0   \n",
              "2          2.0  ...      2   2.0     3       3      10.0   7.0   8.0  10.0   \n",
              "3          3.0  ...      2   1.0     1       5       2.0  15.0  14.0  15.0   \n",
              "4          2.0  ...      2   1.0     2       5       4.0   6.0  10.0  10.0   \n",
              "..         ...  ...    ...   ...   ...     ...       ...   ...   ...   ...   \n",
              "387        3.0  ...      2   1.0     2       5       0.0   7.0   5.0   0.0   \n",
              "388        2.0  ...      4   1.0     1       1       0.0   7.0   9.0   8.0   \n",
              "392        1.0  ...      3   3.0     3       3       3.0  10.0   8.0   7.0   \n",
              "393        1.0  ...      1   3.0     4       5       0.0  11.0  12.0  10.0   \n",
              "394        1.0  ...      3   3.0     3       5       5.0   8.0   9.0   9.0   \n",
              "\n",
              "     Fatherjob  Motherjob  \n",
              "0            1          4  \n",
              "1            5          4  \n",
              "2            5          4  \n",
              "3            3          2  \n",
              "4            5          5  \n",
              "..         ...        ...  \n",
              "387          5          3  \n",
              "388          3          1  \n",
              "392          5          5  \n",
              "393          5          3  \n",
              "394          4          5  \n",
              "\n",
              "[295 rows x 30 columns]"
            ],
            "text/html": [
              "\n",
              "  <div id=\"df-a4fb5d0c-c163-4ca3-8ecf-5c992383777d\">\n",
              "    <div class=\"colab-df-container\">\n",
              "      <div>\n",
              "<style scoped>\n",
              "    .dataframe tbody tr th:only-of-type {\n",
              "        vertical-align: middle;\n",
              "    }\n",
              "\n",
              "    .dataframe tbody tr th {\n",
              "        vertical-align: top;\n",
              "    }\n",
              "\n",
              "    .dataframe thead th {\n",
              "        text-align: right;\n",
              "    }\n",
              "</style>\n",
              "<table border=\"1\" class=\"dataframe\">\n",
              "  <thead>\n",
              "    <tr style=\"text-align: right;\">\n",
              "      <th></th>\n",
              "      <th>school</th>\n",
              "      <th>sex</th>\n",
              "      <th>age</th>\n",
              "      <th>address</th>\n",
              "      <th>famsize</th>\n",
              "      <th>Pstatus</th>\n",
              "      <th>Medu</th>\n",
              "      <th>Fedu</th>\n",
              "      <th>traveltime</th>\n",
              "      <th>studytime</th>\n",
              "      <th>...</th>\n",
              "      <th>goout</th>\n",
              "      <th>Dalc</th>\n",
              "      <th>Walc</th>\n",
              "      <th>health</th>\n",
              "      <th>absences</th>\n",
              "      <th>G1</th>\n",
              "      <th>G2</th>\n",
              "      <th>G3</th>\n",
              "      <th>Fatherjob</th>\n",
              "      <th>Motherjob</th>\n",
              "    </tr>\n",
              "  </thead>\n",
              "  <tbody>\n",
              "    <tr>\n",
              "      <th>0</th>\n",
              "      <td>GP</td>\n",
              "      <td>1</td>\n",
              "      <td>18.0</td>\n",
              "      <td>0</td>\n",
              "      <td>0</td>\n",
              "      <td>1</td>\n",
              "      <td>4</td>\n",
              "      <td>4.0</td>\n",
              "      <td>2.0</td>\n",
              "      <td>2.0</td>\n",
              "      <td>...</td>\n",
              "      <td>4</td>\n",
              "      <td>1.0</td>\n",
              "      <td>1</td>\n",
              "      <td>3</td>\n",
              "      <td>6.0</td>\n",
              "      <td>5.0</td>\n",
              "      <td>6.0</td>\n",
              "      <td>6.0</td>\n",
              "      <td>1</td>\n",
              "      <td>4</td>\n",
              "    </tr>\n",
              "    <tr>\n",
              "      <th>1</th>\n",
              "      <td>GP</td>\n",
              "      <td>1</td>\n",
              "      <td>17.0</td>\n",
              "      <td>0</td>\n",
              "      <td>0</td>\n",
              "      <td>0</td>\n",
              "      <td>1</td>\n",
              "      <td>1.0</td>\n",
              "      <td>1.0</td>\n",
              "      <td>2.0</td>\n",
              "      <td>...</td>\n",
              "      <td>3</td>\n",
              "      <td>1.0</td>\n",
              "      <td>1</td>\n",
              "      <td>3</td>\n",
              "      <td>4.0</td>\n",
              "      <td>5.0</td>\n",
              "      <td>5.0</td>\n",
              "      <td>6.0</td>\n",
              "      <td>5</td>\n",
              "      <td>4</td>\n",
              "    </tr>\n",
              "    <tr>\n",
              "      <th>2</th>\n",
              "      <td>GP</td>\n",
              "      <td>1</td>\n",
              "      <td>15.0</td>\n",
              "      <td>0</td>\n",
              "      <td>1</td>\n",
              "      <td>0</td>\n",
              "      <td>1</td>\n",
              "      <td>1.0</td>\n",
              "      <td>1.0</td>\n",
              "      <td>2.0</td>\n",
              "      <td>...</td>\n",
              "      <td>2</td>\n",
              "      <td>2.0</td>\n",
              "      <td>3</td>\n",
              "      <td>3</td>\n",
              "      <td>10.0</td>\n",
              "      <td>7.0</td>\n",
              "      <td>8.0</td>\n",
              "      <td>10.0</td>\n",
              "      <td>5</td>\n",
              "      <td>4</td>\n",
              "    </tr>\n",
              "    <tr>\n",
              "      <th>3</th>\n",
              "      <td>GP</td>\n",
              "      <td>1</td>\n",
              "      <td>15.0</td>\n",
              "      <td>0</td>\n",
              "      <td>0</td>\n",
              "      <td>0</td>\n",
              "      <td>4</td>\n",
              "      <td>2.0</td>\n",
              "      <td>1.0</td>\n",
              "      <td>3.0</td>\n",
              "      <td>...</td>\n",
              "      <td>2</td>\n",
              "      <td>1.0</td>\n",
              "      <td>1</td>\n",
              "      <td>5</td>\n",
              "      <td>2.0</td>\n",
              "      <td>15.0</td>\n",
              "      <td>14.0</td>\n",
              "      <td>15.0</td>\n",
              "      <td>3</td>\n",
              "      <td>2</td>\n",
              "    </tr>\n",
              "    <tr>\n",
              "      <th>4</th>\n",
              "      <td>GP</td>\n",
              "      <td>1</td>\n",
              "      <td>16.0</td>\n",
              "      <td>0</td>\n",
              "      <td>0</td>\n",
              "      <td>0</td>\n",
              "      <td>3</td>\n",
              "      <td>3.0</td>\n",
              "      <td>1.0</td>\n",
              "      <td>2.0</td>\n",
              "      <td>...</td>\n",
              "      <td>2</td>\n",
              "      <td>1.0</td>\n",
              "      <td>2</td>\n",
              "      <td>5</td>\n",
              "      <td>4.0</td>\n",
              "      <td>6.0</td>\n",
              "      <td>10.0</td>\n",
              "      <td>10.0</td>\n",
              "      <td>5</td>\n",
              "      <td>5</td>\n",
              "    </tr>\n",
              "    <tr>\n",
              "      <th>...</th>\n",
              "      <td>...</td>\n",
              "      <td>...</td>\n",
              "      <td>...</td>\n",
              "      <td>...</td>\n",
              "      <td>...</td>\n",
              "      <td>...</td>\n",
              "      <td>...</td>\n",
              "      <td>...</td>\n",
              "      <td>...</td>\n",
              "      <td>...</td>\n",
              "      <td>...</td>\n",
              "      <td>...</td>\n",
              "      <td>...</td>\n",
              "      <td>...</td>\n",
              "      <td>...</td>\n",
              "      <td>...</td>\n",
              "      <td>...</td>\n",
              "      <td>...</td>\n",
              "      <td>...</td>\n",
              "      <td>...</td>\n",
              "      <td>...</td>\n",
              "    </tr>\n",
              "    <tr>\n",
              "      <th>387</th>\n",
              "      <td>MS</td>\n",
              "      <td>1</td>\n",
              "      <td>19.0</td>\n",
              "      <td>1</td>\n",
              "      <td>0</td>\n",
              "      <td>0</td>\n",
              "      <td>2</td>\n",
              "      <td>3.0</td>\n",
              "      <td>1.0</td>\n",
              "      <td>3.0</td>\n",
              "      <td>...</td>\n",
              "      <td>2</td>\n",
              "      <td>1.0</td>\n",
              "      <td>2</td>\n",
              "      <td>5</td>\n",
              "      <td>0.0</td>\n",
              "      <td>7.0</td>\n",
              "      <td>5.0</td>\n",
              "      <td>0.0</td>\n",
              "      <td>5</td>\n",
              "      <td>3</td>\n",
              "    </tr>\n",
              "    <tr>\n",
              "      <th>388</th>\n",
              "      <td>MS</td>\n",
              "      <td>1</td>\n",
              "      <td>18.0</td>\n",
              "      <td>0</td>\n",
              "      <td>1</td>\n",
              "      <td>0</td>\n",
              "      <td>3</td>\n",
              "      <td>1.0</td>\n",
              "      <td>1.0</td>\n",
              "      <td>2.0</td>\n",
              "      <td>...</td>\n",
              "      <td>4</td>\n",
              "      <td>1.0</td>\n",
              "      <td>1</td>\n",
              "      <td>1</td>\n",
              "      <td>0.0</td>\n",
              "      <td>7.0</td>\n",
              "      <td>9.0</td>\n",
              "      <td>8.0</td>\n",
              "      <td>3</td>\n",
              "      <td>1</td>\n",
              "    </tr>\n",
              "    <tr>\n",
              "      <th>392</th>\n",
              "      <td>MS</td>\n",
              "      <td>0</td>\n",
              "      <td>21.0</td>\n",
              "      <td>1</td>\n",
              "      <td>0</td>\n",
              "      <td>0</td>\n",
              "      <td>1</td>\n",
              "      <td>1.0</td>\n",
              "      <td>1.0</td>\n",
              "      <td>1.0</td>\n",
              "      <td>...</td>\n",
              "      <td>3</td>\n",
              "      <td>3.0</td>\n",
              "      <td>3</td>\n",
              "      <td>3</td>\n",
              "      <td>3.0</td>\n",
              "      <td>10.0</td>\n",
              "      <td>8.0</td>\n",
              "      <td>7.0</td>\n",
              "      <td>5</td>\n",
              "      <td>5</td>\n",
              "    </tr>\n",
              "    <tr>\n",
              "      <th>393</th>\n",
              "      <td>MS</td>\n",
              "      <td>0</td>\n",
              "      <td>18.0</td>\n",
              "      <td>1</td>\n",
              "      <td>1</td>\n",
              "      <td>0</td>\n",
              "      <td>3</td>\n",
              "      <td>2.0</td>\n",
              "      <td>3.0</td>\n",
              "      <td>1.0</td>\n",
              "      <td>...</td>\n",
              "      <td>1</td>\n",
              "      <td>3.0</td>\n",
              "      <td>4</td>\n",
              "      <td>5</td>\n",
              "      <td>0.0</td>\n",
              "      <td>11.0</td>\n",
              "      <td>12.0</td>\n",
              "      <td>10.0</td>\n",
              "      <td>5</td>\n",
              "      <td>3</td>\n",
              "    </tr>\n",
              "    <tr>\n",
              "      <th>394</th>\n",
              "      <td>MS</td>\n",
              "      <td>0</td>\n",
              "      <td>19.0</td>\n",
              "      <td>0</td>\n",
              "      <td>1</td>\n",
              "      <td>0</td>\n",
              "      <td>1</td>\n",
              "      <td>1.0</td>\n",
              "      <td>1.0</td>\n",
              "      <td>1.0</td>\n",
              "      <td>...</td>\n",
              "      <td>3</td>\n",
              "      <td>3.0</td>\n",
              "      <td>3</td>\n",
              "      <td>5</td>\n",
              "      <td>5.0</td>\n",
              "      <td>8.0</td>\n",
              "      <td>9.0</td>\n",
              "      <td>9.0</td>\n",
              "      <td>4</td>\n",
              "      <td>5</td>\n",
              "    </tr>\n",
              "  </tbody>\n",
              "</table>\n",
              "<p>295 rows × 30 columns</p>\n",
              "</div>\n",
              "      <button class=\"colab-df-convert\" onclick=\"convertToInteractive('df-a4fb5d0c-c163-4ca3-8ecf-5c992383777d')\"\n",
              "              title=\"Convert this dataframe to an interactive table.\"\n",
              "              style=\"display:none;\">\n",
              "        \n",
              "  <svg xmlns=\"http://www.w3.org/2000/svg\" height=\"24px\"viewBox=\"0 0 24 24\"\n",
              "       width=\"24px\">\n",
              "    <path d=\"M0 0h24v24H0V0z\" fill=\"none\"/>\n",
              "    <path d=\"M18.56 5.44l.94 2.06.94-2.06 2.06-.94-2.06-.94-.94-2.06-.94 2.06-2.06.94zm-11 1L8.5 8.5l.94-2.06 2.06-.94-2.06-.94L8.5 2.5l-.94 2.06-2.06.94zm10 10l.94 2.06.94-2.06 2.06-.94-2.06-.94-.94-2.06-.94 2.06-2.06.94z\"/><path d=\"M17.41 7.96l-1.37-1.37c-.4-.4-.92-.59-1.43-.59-.52 0-1.04.2-1.43.59L10.3 9.45l-7.72 7.72c-.78.78-.78 2.05 0 2.83L4 21.41c.39.39.9.59 1.41.59.51 0 1.02-.2 1.41-.59l7.78-7.78 2.81-2.81c.8-.78.8-2.07 0-2.86zM5.41 20L4 18.59l7.72-7.72 1.47 1.35L5.41 20z\"/>\n",
              "  </svg>\n",
              "      </button>\n",
              "      \n",
              "  <style>\n",
              "    .colab-df-container {\n",
              "      display:flex;\n",
              "      flex-wrap:wrap;\n",
              "      gap: 12px;\n",
              "    }\n",
              "\n",
              "    .colab-df-convert {\n",
              "      background-color: #E8F0FE;\n",
              "      border: none;\n",
              "      border-radius: 50%;\n",
              "      cursor: pointer;\n",
              "      display: none;\n",
              "      fill: #1967D2;\n",
              "      height: 32px;\n",
              "      padding: 0 0 0 0;\n",
              "      width: 32px;\n",
              "    }\n",
              "\n",
              "    .colab-df-convert:hover {\n",
              "      background-color: #E2EBFA;\n",
              "      box-shadow: 0px 1px 2px rgba(60, 64, 67, 0.3), 0px 1px 3px 1px rgba(60, 64, 67, 0.15);\n",
              "      fill: #174EA6;\n",
              "    }\n",
              "\n",
              "    [theme=dark] .colab-df-convert {\n",
              "      background-color: #3B4455;\n",
              "      fill: #D2E3FC;\n",
              "    }\n",
              "\n",
              "    [theme=dark] .colab-df-convert:hover {\n",
              "      background-color: #434B5C;\n",
              "      box-shadow: 0px 1px 3px 1px rgba(0, 0, 0, 0.15);\n",
              "      filter: drop-shadow(0px 1px 2px rgba(0, 0, 0, 0.3));\n",
              "      fill: #FFFFFF;\n",
              "    }\n",
              "  </style>\n",
              "\n",
              "      <script>\n",
              "        const buttonEl =\n",
              "          document.querySelector('#df-a4fb5d0c-c163-4ca3-8ecf-5c992383777d button.colab-df-convert');\n",
              "        buttonEl.style.display =\n",
              "          google.colab.kernel.accessAllowed ? 'block' : 'none';\n",
              "\n",
              "        async function convertToInteractive(key) {\n",
              "          const element = document.querySelector('#df-a4fb5d0c-c163-4ca3-8ecf-5c992383777d');\n",
              "          const dataTable =\n",
              "            await google.colab.kernel.invokeFunction('convertToInteractive',\n",
              "                                                     [key], {});\n",
              "          if (!dataTable) return;\n",
              "\n",
              "          const docLinkHtml = 'Like what you see? Visit the ' +\n",
              "            '<a target=\"_blank\" href=https://colab.research.google.com/notebooks/data_table.ipynb>data table notebook</a>'\n",
              "            + ' to learn more about interactive tables.';\n",
              "          element.innerHTML = '';\n",
              "          dataTable['output_type'] = 'display_data';\n",
              "          await google.colab.output.renderOutput(dataTable, element);\n",
              "          const docLink = document.createElement('div');\n",
              "          docLink.innerHTML = docLinkHtml;\n",
              "          element.appendChild(docLink);\n",
              "        }\n",
              "      </script>\n",
              "    </div>\n",
              "  </div>\n",
              "  "
            ]
          },
          "metadata": {},
          "execution_count": 52
        }
      ],
      "source": [
        "df"
      ]
    },
    {
      "cell_type": "code",
      "execution_count": null,
      "metadata": {
        "colab": {
          "base_uri": "https://localhost:8080/"
        },
        "id": "rTXPPj5Ttb-X",
        "outputId": "72b08e76-aba3-4cda-a532-b5e5655371f6"
      },
      "outputs": [
        {
          "output_type": "stream",
          "name": "stdout",
          "text": [
            "['GP' 'MS']\n",
            "GP    259\n",
            "MS     36\n",
            "Name: school, dtype: int64\n",
            "[1 0]\n",
            "1    154\n",
            "0    141\n",
            "Name: sex, dtype: int64\n",
            "[18. 17. 15. 16. 19. 20. 21.]\n",
            "17.0    76\n",
            "16.0    75\n",
            "15.0    63\n",
            "18.0    60\n",
            "19.0    18\n",
            "20.0     2\n",
            "21.0     1\n",
            "Name: age, dtype: int64\n",
            "[0 1]\n",
            "0    233\n",
            "1     62\n",
            "Name: address, dtype: int64\n",
            "[0 1]\n",
            "0    213\n",
            "1     82\n",
            "Name: famsize, dtype: int64\n",
            "[1 0]\n",
            "0    267\n",
            "1     28\n",
            "Name: Pstatus, dtype: int64\n",
            "[4 1 3 2 0]\n",
            "4    100\n",
            "2     77\n",
            "3     70\n",
            "1     45\n",
            "0      3\n",
            "Name: Medu, dtype: int64\n",
            "[4. 1. 2. 3.]\n",
            "2.0    84\n",
            "3.0    76\n",
            "4.0    75\n",
            "1.0    60\n",
            "Name: Fedu, dtype: int64\n",
            "[2. 1. 3.]\n",
            "1.0    201\n",
            "2.0     75\n",
            "3.0     19\n",
            "Name: traveltime, dtype: int64\n",
            "[2. 3. 1.]\n",
            "2.0    157\n",
            "1.0     81\n",
            "3.0     57\n",
            "Name: studytime, dtype: int64\n",
            "[0 3 1 2]\n",
            "0    236\n",
            "1     39\n",
            "2     11\n",
            "3      9\n",
            "Name: failures, dtype: int64\n",
            "[0 1]\n",
            "1    259\n",
            "0     36\n",
            "Name: schoolsup, dtype: int64\n",
            "[1 0]\n",
            "0    180\n",
            "1    115\n",
            "Name: famsup, dtype: int64\n",
            "[1 0]\n",
            "1    161\n",
            "0    134\n",
            "Name: paid, dtype: int64\n",
            "[1 0]\n",
            "0    155\n",
            "1    140\n",
            "Name: activities, dtype: int64\n",
            "[0 1]\n",
            "0    281\n",
            "1     14\n",
            "Name: higher, dtype: int64\n",
            "[1 0]\n",
            "0    247\n",
            "1     48\n",
            "Name: internet, dtype: int64\n",
            "[1 0]\n",
            "1    201\n",
            "0     94\n",
            "Name: romantic, dtype: int64\n",
            "[4. 5. 3.]\n",
            "4.0    153\n",
            "5.0     85\n",
            "3.0     57\n",
            "Name: famrel, dtype: int64\n",
            "[3. 2. 4. 5.]\n",
            "3.0    122\n",
            "4.0     93\n",
            "2.0     51\n",
            "5.0     29\n",
            "Name: freetime, dtype: int64\n",
            "[4 3 2 1 5]\n",
            "3    103\n",
            "2     77\n",
            "4     68\n",
            "5     30\n",
            "1     17\n",
            "Name: goout, dtype: int64\n",
            "[1. 2. 3.]\n",
            "1.0    214\n",
            "2.0     59\n",
            "3.0     22\n",
            "Name: Dalc, dtype: int64\n",
            "[1 3 2 4 5]\n",
            "1    111\n",
            "3     68\n",
            "2     67\n",
            "4     40\n",
            "5      9\n",
            "Name: Walc, dtype: int64\n",
            "[3 5 1 2 4]\n",
            "5    113\n",
            "3     67\n",
            "4     45\n",
            "2     37\n",
            "1     33\n",
            "Name: health, dtype: int64\n",
            "[ 6.  4. 10.  2.  0. 16.  8. 25. 14. 12. 26. 20. 18. 24. 28. 15. 22. 13.\n",
            "  3.  1. 30. 19.  5.  9. 11. 23.  7. 17.]\n",
            "0.0     83\n",
            "2.0     57\n",
            "4.0     43\n",
            "6.0     20\n",
            "8.0     17\n",
            "10.0    12\n",
            "12.0     8\n",
            "3.0      7\n",
            "16.0     5\n",
            "7.0      5\n",
            "14.0     5\n",
            "20.0     4\n",
            "18.0     4\n",
            "22.0     3\n",
            "9.0      3\n",
            "5.0      3\n",
            "15.0     2\n",
            "11.0     2\n",
            "13.0     2\n",
            "1.0      2\n",
            "23.0     1\n",
            "28.0     1\n",
            "19.0     1\n",
            "30.0     1\n",
            "24.0     1\n",
            "26.0     1\n",
            "25.0     1\n",
            "17.0     1\n",
            "Name: absences, dtype: int64\n",
            "[ 5.  7. 15.  6. 12. 16. 14. 10. 13.  8. 11.  9. 17. 19. 18.  3.]\n",
            "10.0    34\n",
            "8.0     32\n",
            "11.0    29\n",
            "12.0    28\n",
            "13.0    28\n",
            "7.0     26\n",
            "14.0    25\n",
            "9.0     25\n",
            "15.0    19\n",
            "6.0     15\n",
            "16.0    15\n",
            "18.0     7\n",
            "17.0     6\n",
            "5.0      3\n",
            "19.0     2\n",
            "3.0      1\n",
            "Name: G1, dtype: int64\n",
            "[ 6.  5.  8. 14. 10. 15. 12. 18. 16. 13.  9. 11.  7. 17. 19.  4.]\n",
            "10.0    40\n",
            "9.0     36\n",
            "12.0    29\n",
            "15.0    28\n",
            "11.0    28\n",
            "13.0    26\n",
            "8.0     22\n",
            "14.0    21\n",
            "7.0     17\n",
            "6.0     13\n",
            "5.0     10\n",
            "18.0    10\n",
            "16.0     8\n",
            "17.0     4\n",
            "19.0     2\n",
            "4.0      1\n",
            "Name: G2, dtype: int64\n",
            "[ 6. 10. 15. 11. 19.  9. 12. 14. 16.  5.  8. 17. 18. 13.  7.  0.  4.]\n",
            "10.0    46\n",
            "11.0    35\n",
            "15.0    27\n",
            "12.0    26\n",
            "14.0    24\n",
            "9.0     23\n",
            "8.0     22\n",
            "13.0    20\n",
            "0.0     18\n",
            "6.0     13\n",
            "16.0    12\n",
            "18.0     9\n",
            "7.0      6\n",
            "19.0     5\n",
            "17.0     4\n",
            "5.0      4\n",
            "4.0      1\n",
            "Name: G3, dtype: int64\n",
            "[1 5 3 2 4]\n",
            "5    163\n",
            "3     84\n",
            "1     19\n",
            "4     17\n",
            "2     12\n",
            "Name: Fatherjob, dtype: int64\n",
            "[4 2 5 3 1]\n",
            "5    100\n",
            "3     77\n",
            "1     48\n",
            "4     45\n",
            "2     25\n",
            "Name: Motherjob, dtype: int64\n"
          ]
        }
      ],
      "source": [
        "df.iloc[:,29]\n",
        "for i in range(df.shape[1]):\n",
        "  print(df.iloc[:,i].unique())\n",
        "  print(df.iloc[:,i].value_counts())"
      ]
    },
    {
      "cell_type": "markdown",
      "metadata": {
        "id": "EuKE8GgJR2jo"
      },
      "source": [
        "#LINEAR MODEL"
      ]
    },
    {
      "cell_type": "code",
      "execution_count": null,
      "metadata": {
        "id": "pbP1sAWIPBBw"
      },
      "outputs": [],
      "source": [
        "df.drop(['school'],axis=1,inplace=True)"
      ]
    },
    {
      "cell_type": "code",
      "execution_count": null,
      "metadata": {
        "colab": {
          "base_uri": "https://localhost:8080/"
        },
        "id": "vWnqOI3tIV8H",
        "outputId": "2c2ae4b2-f2e5-4897-a506-5499115e6ff4"
      },
      "outputs": [
        {
          "output_type": "stream",
          "name": "stdout",
          "text": [
            "     sex   age  address  famsize  Pstatus  Medu  Fedu  traveltime  studytime  \\\n",
            "0      1  18.0        0        0        1     4   4.0         2.0        2.0   \n",
            "1      1  17.0        0        0        0     1   1.0         1.0        2.0   \n",
            "2      1  15.0        0        1        0     1   1.0         1.0        2.0   \n",
            "3      1  15.0        0        0        0     4   2.0         1.0        3.0   \n",
            "4      1  16.0        0        0        0     3   3.0         1.0        2.0   \n",
            "..   ...   ...      ...      ...      ...   ...   ...         ...        ...   \n",
            "387    1  19.0        1        0        0     2   3.0         1.0        3.0   \n",
            "388    1  18.0        0        1        0     3   1.0         1.0        2.0   \n",
            "392    0  21.0        1        0        0     1   1.0         1.0        1.0   \n",
            "393    0  18.0        1        1        0     3   2.0         3.0        1.0   \n",
            "394    0  19.0        0        1        0     1   1.0         1.0        1.0   \n",
            "\n",
            "     failures  ...  freetime  goout  Dalc  Walc  health  absences    G1    G2  \\\n",
            "0           0  ...       3.0      4   1.0     1       3       6.0   5.0   6.0   \n",
            "1           0  ...       3.0      3   1.0     1       3       4.0   5.0   5.0   \n",
            "2           3  ...       3.0      2   2.0     3       3      10.0   7.0   8.0   \n",
            "3           0  ...       2.0      2   1.0     1       5       2.0  15.0  14.0   \n",
            "4           0  ...       3.0      2   1.0     2       5       4.0   6.0  10.0   \n",
            "..        ...  ...       ...    ...   ...   ...     ...       ...   ...   ...   \n",
            "387         1  ...       4.0      2   1.0     2       5       0.0   7.0   5.0   \n",
            "388         0  ...       3.0      4   1.0     1       1       0.0   7.0   9.0   \n",
            "392         3  ...       5.0      3   3.0     3       3       3.0  10.0   8.0   \n",
            "393         0  ...       4.0      1   3.0     4       5       0.0  11.0  12.0   \n",
            "394         0  ...       2.0      3   3.0     3       5       5.0   8.0   9.0   \n",
            "\n",
            "     Fatherjob  Motherjob  \n",
            "0            1          4  \n",
            "1            5          4  \n",
            "2            5          4  \n",
            "3            3          2  \n",
            "4            5          5  \n",
            "..         ...        ...  \n",
            "387          5          3  \n",
            "388          3          1  \n",
            "392          5          5  \n",
            "393          5          3  \n",
            "394          4          5  \n",
            "\n",
            "[295 rows x 28 columns]\n",
            "0       6.0\n",
            "1       6.0\n",
            "2      10.0\n",
            "3      15.0\n",
            "4      10.0\n",
            "       ... \n",
            "387     0.0\n",
            "388     8.0\n",
            "392     7.0\n",
            "393    10.0\n",
            "394     9.0\n",
            "Name: G3, Length: 295, dtype: float64\n"
          ]
        }
      ],
      "source": [
        "X=df.drop(['G3'],axis=1)\n",
        "print(X)\n",
        "y=df['G3']\n",
        "print(y)"
      ]
    },
    {
      "cell_type": "code",
      "execution_count": null,
      "metadata": {
        "id": "F3PmurgHIW_4"
      },
      "outputs": [],
      "source": [
        "from sklearn.linear_model import LinearRegression\n",
        "import statsmodels.formula.api as smf\n",
        "from sklearn.model_selection import train_test_split\n",
        "from sklearn import metrics\n",
        "\n",
        "linreg = LinearRegression()\n",
        "linreg.fit(X, y)\n",
        "df['G3_pred']=linreg.predict(X)"
      ]
    },
    {
      "cell_type": "code",
      "execution_count": null,
      "metadata": {
        "colab": {
          "base_uri": "https://localhost:8080/"
        },
        "id": "-kT6ktnDIa3w",
        "outputId": "001095d6-4cbb-4cf8-8101-a3346774ee05"
      },
      "outputs": [
        {
          "output_type": "execute_result",
          "data": {
            "text/plain": [
              "1.0630792609407393"
            ]
          },
          "metadata": {},
          "execution_count": 57
        }
      ],
      "source": [
        "X_train, X_test, y_train, y_test = train_test_split(X, y, random_state=0,train_size=0.75)\n",
        "lm2 = LinearRegression()\n",
        "lm2.fit(X_train, y_train)\n",
        "y_pred = lm2.predict(X_test)\n",
        "\n",
        "skl.mean_absolute_error(y_test,y_pred)"
      ]
    },
    {
      "cell_type": "code",
      "execution_count": null,
      "metadata": {
        "colab": {
          "base_uri": "https://localhost:8080/"
        },
        "id": "l2fNABSkImED",
        "outputId": "fa649986-cc40-48c4-a601-7b99ecc2db5b"
      },
      "outputs": [
        {
          "output_type": "execute_result",
          "data": {
            "text/plain": [
              "0.8609537992825378"
            ]
          },
          "metadata": {},
          "execution_count": 58
        }
      ],
      "source": [
        "from sklearn.metrics import r2_score\n",
        "r2_score(y_test, y_pred)"
      ]
    },
    {
      "cell_type": "code",
      "execution_count": null,
      "metadata": {
        "colab": {
          "base_uri": "https://localhost:8080/"
        },
        "id": "BbTU6pI-JQcs",
        "outputId": "ec091544-dd9c-48e9-a729-1a9d299d2bd4"
      },
      "outputs": [
        {
          "output_type": "execute_result",
          "data": {
            "text/plain": [
              "0.8261908805252468"
            ]
          },
          "metadata": {},
          "execution_count": 59
        }
      ],
      "source": [
        "lm2.score(X,y)"
      ]
    },
    {
      "cell_type": "markdown",
      "metadata": {
        "id": "ch_Jz8bHSQ9q"
      },
      "source": [
        "#DIFFERENT TRAIN-TEST RATIO'S"
      ]
    },
    {
      "cell_type": "code",
      "execution_count": null,
      "metadata": {
        "colab": {
          "base_uri": "https://localhost:8080/"
        },
        "id": "wuZ9z_PyMO1q",
        "outputId": "6c83cb1d-d870-44de-8d96-01a7a8538526"
      },
      "outputs": [
        {
          "output_type": "stream",
          "name": "stdout",
          "text": [
            "     sex  address  famsize  Pstatus  Medu  Fedu  studytime  schoolsup  famsup  \\\n",
            "0      1        0        0        1     4   4.0        2.0          0       1   \n",
            "1      1        0        0        0     1   1.0        2.0          1       0   \n",
            "2      1        0        1        0     1   1.0        2.0          0       1   \n",
            "3      1        0        0        0     4   2.0        3.0          1       0   \n",
            "4      1        0        0        0     3   3.0        2.0          1       0   \n",
            "..   ...      ...      ...      ...   ...   ...        ...        ...     ...   \n",
            "387    1        1        0        0     2   3.0        3.0          1       1   \n",
            "388    1        0        1        0     3   1.0        2.0          1       0   \n",
            "392    0        1        0        0     1   1.0        1.0          1       1   \n",
            "393    0        1        1        0     3   2.0        1.0          1       1   \n",
            "394    0        0        1        0     1   1.0        1.0          1       1   \n",
            "\n",
            "     paid  ...  internet  romantic  famrel  freetime  health    G1    G2  \\\n",
            "0       1  ...         1         1     4.0       3.0       3   5.0   6.0   \n",
            "1       1  ...         0         1     5.0       3.0       3   5.0   5.0   \n",
            "2       0  ...         0         1     4.0       3.0       3   7.0   8.0   \n",
            "3       0  ...         0         0     3.0       2.0       5  15.0  14.0   \n",
            "4       0  ...         1         1     4.0       3.0       5   6.0  10.0   \n",
            "..    ...  ...       ...       ...     ...       ...     ...   ...   ...   \n",
            "387     1  ...         0         1     5.0       4.0       5   7.0   5.0   \n",
            "388     0  ...         0         1     4.0       3.0       1   7.0   9.0   \n",
            "392     1  ...         1         1     5.0       5.0       3  10.0   8.0   \n",
            "393     1  ...         0         1     4.0       4.0       5  11.0  12.0   \n",
            "394     1  ...         0         1     3.0       2.0       5   8.0   9.0   \n",
            "\n",
            "     Fatherjob  Motherjob    G3_pred  \n",
            "0            1          4   6.066942  \n",
            "1            5          4   3.990862  \n",
            "2            5          4   7.372548  \n",
            "3            3          2  13.477075  \n",
            "4            5          5  10.312733  \n",
            "..         ...        ...        ...  \n",
            "387          5          3   3.253468  \n",
            "388          3          1   7.881678  \n",
            "392          5          5   6.073416  \n",
            "393          5          3  11.927889  \n",
            "394          4          5   7.788953  \n",
            "\n",
            "[295 rows x 22 columns]\n",
            "0       6.0\n",
            "1       6.0\n",
            "2      10.0\n",
            "3      15.0\n",
            "4      10.0\n",
            "       ... \n",
            "387     0.0\n",
            "388     8.0\n",
            "392     7.0\n",
            "393    10.0\n",
            "394     9.0\n",
            "Name: G3, Length: 295, dtype: float64\n"
          ]
        }
      ],
      "source": [
        "X2=df.drop(['G3','age','traveltime','failures','goout','Dalc','Walc','absences'],axis=1)\n",
        "print(X2)\n",
        "y2=df['G3']\n",
        "print(y2)"
      ]
    },
    {
      "cell_type": "code",
      "execution_count": null,
      "metadata": {
        "id": "yPgCBekgMpQi"
      },
      "outputs": [],
      "source": [
        "from sklearn.linear_model import LinearRegression\n",
        "import statsmodels.formula.api as smf\n",
        "from sklearn.model_selection import train_test_split\n",
        "from sklearn import metrics\n",
        "from sklearn.metrics import accuracy_score\n",
        "\n",
        "linreg2 = LinearRegression()\n",
        "linreg2.fit(X2, y2)\n",
        "df['G3_pred']=linreg2.predict(X2)"
      ]
    },
    {
      "cell_type": "code",
      "execution_count": null,
      "metadata": {
        "colab": {
          "base_uri": "https://localhost:8080/"
        },
        "id": "RdAM5iAHTSdO",
        "outputId": "bbd9223c-68c7-4dec-dc1e-c5f087b8c6b6"
      },
      "outputs": [
        {
          "output_type": "stream",
          "name": "stdout",
          "text": [
            "1.1127085353574133\n"
          ]
        }
      ],
      "source": [
        "X2_train, X2_test, y2_train, y2_test = train_test_split(X2, y2, random_state=0,train_size=0.60)\n",
        "lm3= LinearRegression()\n",
        "lm3.fit(X2_train, y2_train)\n",
        "y2_pred = lm3.predict(X2_test)\n",
        "\n",
        "print(np.sqrt(metrics.mean_absolute_error(y2_test, y2_pred)))\n"
      ]
    },
    {
      "cell_type": "code",
      "execution_count": null,
      "metadata": {
        "colab": {
          "base_uri": "https://localhost:8080/"
        },
        "id": "x3KmEsMClh74",
        "outputId": "52396b00-b6f2-4df8-8ba6-d8e7d8b1bfa5"
      },
      "outputs": [
        {
          "output_type": "execute_result",
          "data": {
            "text/plain": [
              "0.8404630223001132"
            ]
          },
          "metadata": {},
          "execution_count": 63
        }
      ],
      "source": [
        "from sklearn.metrics import r2_score\n",
        "r2_score(y2_test, y2_pred)"
      ]
    },
    {
      "cell_type": "code",
      "execution_count": null,
      "metadata": {
        "colab": {
          "base_uri": "https://localhost:8080/"
        },
        "id": "66i9QWjf1iKM",
        "outputId": "d9ad967c-41af-4f0e-b2db-c032f4a4ae58"
      },
      "outputs": [
        {
          "output_type": "execute_result",
          "data": {
            "text/plain": [
              "0.8227686908112112"
            ]
          },
          "metadata": {},
          "execution_count": 64
        }
      ],
      "source": [
        "lm3.score(X2,y2)"
      ]
    },
    {
      "cell_type": "code",
      "execution_count": null,
      "metadata": {
        "colab": {
          "base_uri": "https://localhost:8080/"
        },
        "id": "y5-Dh1l1_Dg8",
        "outputId": "7d4b7eb8-6373-4acc-c69f-c87375d00933"
      },
      "outputs": [
        {
          "output_type": "execute_result",
          "data": {
            "text/plain": [
              "0.9736791182909877"
            ]
          },
          "metadata": {},
          "execution_count": 65
        }
      ],
      "source": [
        "X2_train, X2_test, y2_train, y2_test = train_test_split(X2, y2, random_state=0,train_size=0.8)\n",
        "lm3 = LinearRegression()\n",
        "lm3.fit(X2_train, y2_train)\n",
        "y2_pred = lm3.predict(X2_test)\n",
        "skl.mean_absolute_error(y2_test,y2_pred)\n"
      ]
    },
    {
      "cell_type": "code",
      "execution_count": null,
      "metadata": {
        "colab": {
          "base_uri": "https://localhost:8080/"
        },
        "id": "hoq9VOOB_Hvb",
        "outputId": "98cc6a12-31c4-4d67-d69c-1554209f9bda"
      },
      "outputs": [
        {
          "output_type": "execute_result",
          "data": {
            "text/plain": [
              "0.8822226228003115"
            ]
          },
          "metadata": {},
          "execution_count": 66
        }
      ],
      "source": [
        "from sklearn.metrics import r2_score\n",
        "r2_score(y2_test, y2_pred)"
      ]
    },
    {
      "cell_type": "code",
      "execution_count": null,
      "metadata": {
        "colab": {
          "base_uri": "https://localhost:8080/"
        },
        "id": "evw_6K-V_J0o",
        "outputId": "398181f4-91d9-403c-efb1-abea28794785"
      },
      "outputs": [
        {
          "output_type": "execute_result",
          "data": {
            "text/plain": [
              "0.8285777603446719"
            ]
          },
          "metadata": {},
          "execution_count": 67
        }
      ],
      "source": [
        "lm3.score(X2,y2)"
      ]
    },
    {
      "cell_type": "code",
      "execution_count": null,
      "metadata": {
        "colab": {
          "base_uri": "https://localhost:8080/"
        },
        "id": "3epvIK3tU9dj",
        "outputId": "a2701682-6be2-48f4-b9df-3cbc145c87b3"
      },
      "outputs": [
        {
          "output_type": "stream",
          "name": "stdout",
          "text": [
            "1.6304646380063328\n"
          ]
        }
      ],
      "source": [
        "X2_train, X2_test, y2_train, y2_test = train_test_split(X2, y2, random_state=0,train_size=0.6)\n",
        "lm3 = LinearRegression()\n",
        "lm3.fit(X2_train, y2_train)\n",
        "y2_pred = lm3.predict(X2_test)\n",
        "\n",
        "print(np.sqrt(metrics.mean_squared_error(y2_test, y2_pred)))"
      ]
    },
    {
      "cell_type": "code",
      "execution_count": null,
      "metadata": {
        "colab": {
          "base_uri": "https://localhost:8080/"
        },
        "id": "ZjCu8IUqVEo3",
        "outputId": "74fd4573-9a31-4a3b-d8fe-650d87d357a9"
      },
      "outputs": [
        {
          "output_type": "execute_result",
          "data": {
            "text/plain": [
              "0.8404630223001132"
            ]
          },
          "metadata": {},
          "execution_count": 69
        }
      ],
      "source": [
        "from sklearn.metrics import r2_score\n",
        "r2_score(y2_test, y2_pred)"
      ]
    },
    {
      "cell_type": "code",
      "execution_count": null,
      "metadata": {
        "colab": {
          "base_uri": "https://localhost:8080/"
        },
        "id": "9ALy7Ws-VFtO",
        "outputId": "81e141c9-f56d-4724-91a8-6f67c86d2b3d"
      },
      "outputs": [
        {
          "output_type": "execute_result",
          "data": {
            "text/plain": [
              "0.8227686908112112"
            ]
          },
          "metadata": {},
          "execution_count": 70
        }
      ],
      "source": [
        "lm3.score(X2,y2)"
      ]
    },
    {
      "cell_type": "code",
      "execution_count": null,
      "metadata": {
        "colab": {
          "base_uri": "https://localhost:8080/"
        },
        "id": "8kvM7ihZVSPb",
        "outputId": "2e8c4654-1f7a-4da3-ced4-9008113f39b6"
      },
      "outputs": [
        {
          "output_type": "stream",
          "name": "stdout",
          "text": [
            "1.436169022170356\n"
          ]
        }
      ],
      "source": [
        "X2_train, X2_test, y2_train, y2_test = train_test_split(X2, y2, random_state=0,train_size=0.75)\n",
        "lm3 = LinearRegression()\n",
        "lm3.fit(X2_train, y2_train)\n",
        "y2_pred = lm3.predict(X2_test)\n",
        "\n",
        "print(np.sqrt(metrics.mean_squared_error(y2_test, y2_pred)))"
      ]
    },
    {
      "cell_type": "code",
      "execution_count": null,
      "metadata": {
        "colab": {
          "base_uri": "https://localhost:8080/"
        },
        "id": "0HdGMHUZVUbW",
        "outputId": "fd19a941-ea20-4899-daec-0f450b18b701"
      },
      "outputs": [
        {
          "output_type": "execute_result",
          "data": {
            "text/plain": [
              "0.8747094103442798"
            ]
          },
          "metadata": {},
          "execution_count": 72
        }
      ],
      "source": [
        "from sklearn.metrics import r2_score\n",
        "r2_score(y2_test, y2_pred)"
      ]
    },
    {
      "cell_type": "code",
      "execution_count": null,
      "metadata": {
        "colab": {
          "base_uri": "https://localhost:8080/"
        },
        "id": "Z33N2uxBVWL2",
        "outputId": "12bec5a1-10ed-421c-acc7-83bd5a26d0d6"
      },
      "outputs": [
        {
          "output_type": "execute_result",
          "data": {
            "text/plain": [
              "0.8281832037696109"
            ]
          },
          "metadata": {},
          "execution_count": 73
        }
      ],
      "source": [
        "lm3.score(X2,y2)\n"
      ]
    },
    {
      "cell_type": "code",
      "execution_count": null,
      "metadata": {
        "colab": {
          "base_uri": "https://localhost:8080/"
        },
        "id": "cTYxk8LwVcse",
        "outputId": "e2f5a438-a240-4f5f-e9ce-d751e3e0f6b0"
      },
      "outputs": [
        {
          "output_type": "execute_result",
          "data": {
            "text/plain": [
              "1.0630792609407393"
            ]
          },
          "metadata": {},
          "execution_count": 74
        }
      ],
      "source": [
        "X2_train, X2_test, y2_train, y2_test = train_test_split(X2, y2, random_state=0,train_size=0.80)\n",
        "lm3 = LinearRegression()\n",
        "lm3.fit(X2_train, y2_train)\n",
        "y2_pred = lm3.predict(X2_test)\n",
        "\n",
        "skl.mean_absolute_error(y_test,y_pred)\n"
      ]
    },
    {
      "cell_type": "code",
      "execution_count": null,
      "metadata": {
        "colab": {
          "base_uri": "https://localhost:8080/"
        },
        "id": "OI40PRvbVmEh",
        "outputId": "7fceaaaf-1b7b-4554-87f0-b9d339efede6"
      },
      "outputs": [
        {
          "output_type": "execute_result",
          "data": {
            "text/plain": [
              "0.8822226228003115"
            ]
          },
          "metadata": {},
          "execution_count": 75
        }
      ],
      "source": [
        "from sklearn.metrics import r2_score\n",
        "r2_score(y2_test, y2_pred)"
      ]
    },
    {
      "cell_type": "code",
      "execution_count": null,
      "metadata": {
        "colab": {
          "base_uri": "https://localhost:8080/"
        },
        "id": "-THQalthVpz4",
        "outputId": "80f1223b-c7f9-4ddc-cc07-132ed8f4677d"
      },
      "outputs": [
        {
          "output_type": "execute_result",
          "data": {
            "text/plain": [
              "0.8285777603446719"
            ]
          },
          "metadata": {},
          "execution_count": 76
        }
      ],
      "source": [
        "lm3.score(X2,y2)\n"
      ]
    },
    {
      "cell_type": "code",
      "execution_count": null,
      "metadata": {
        "colab": {
          "base_uri": "https://localhost:8080/"
        },
        "id": "t4XqCf3VVzJT",
        "outputId": "a530462e-487d-4764-dad6-5dd45ff9fa9c"
      },
      "outputs": [
        {
          "output_type": "stream",
          "name": "stdout",
          "text": [
            "1.6607407395657519\n"
          ]
        }
      ],
      "source": [
        "X2_train, X2_test, y2_train, y2_test = train_test_split(X2, y2, random_state=0,train_size=0.65)\n",
        "lm3 = LinearRegression()\n",
        "lm3.fit(X2_train, y2_train)\n",
        "y2_pred = lm3.predict(X2_test)\n",
        "\n",
        "print(np.sqrt(metrics.mean_squared_error(y2_test, y2_pred)))"
      ]
    },
    {
      "cell_type": "code",
      "execution_count": null,
      "metadata": {
        "colab": {
          "base_uri": "https://localhost:8080/"
        },
        "id": "2uRSFWhMV2Vp",
        "outputId": "d6a41e66-c342-4bbd-8f14-e7042119127e"
      },
      "outputs": [
        {
          "output_type": "execute_result",
          "data": {
            "text/plain": [
              "0.8403785451067138"
            ]
          },
          "metadata": {},
          "execution_count": 78
        }
      ],
      "source": [
        "from sklearn.metrics import r2_score\n",
        "r2_score(y2_test, y2_pred)"
      ]
    },
    {
      "cell_type": "code",
      "execution_count": null,
      "metadata": {
        "colab": {
          "base_uri": "https://localhost:8080/"
        },
        "id": "xH5Z2wqmV6Yl",
        "outputId": "96d754e4-e8b2-4299-8d07-154a3933fb4c"
      },
      "outputs": [
        {
          "output_type": "execute_result",
          "data": {
            "text/plain": [
              "0.824055172189629"
            ]
          },
          "metadata": {},
          "execution_count": 79
        }
      ],
      "source": [
        "lm3.score(X2,y2)"
      ]
    },
    {
      "cell_type": "code",
      "execution_count": null,
      "metadata": {
        "colab": {
          "base_uri": "https://localhost:8080/"
        },
        "id": "4jZdFlFX0VuF",
        "outputId": "228f75f5-c127-4eeb-dc77-2b37f2e32091"
      },
      "outputs": [
        {
          "output_type": "execute_result",
          "data": {
            "text/plain": [
              "(295, 30)"
            ]
          },
          "metadata": {},
          "execution_count": 80
        }
      ],
      "source": [
        "df.shape"
      ]
    },
    {
      "cell_type": "markdown",
      "metadata": {
        "id": "TspLLW9rKzD5"
      },
      "source": [
        "#BAGGING"
      ]
    },
    {
      "cell_type": "code",
      "execution_count": null,
      "metadata": {
        "id": "yzA--6_TBeEx"
      },
      "outputs": [],
      "source": [
        "from sklearn.ensemble import BaggingRegressor\n",
        "import sklearn.metrics as metrics\n",
        "bag_model = BaggingRegressor(\n",
        "base_estimator=BaggingRegressor(), \n",
        "n_estimators=100, \n",
        "max_samples=0.8, \n",
        "bootstrap=True,\n",
        "oob_score=True,\n",
        "random_state=42\n",
        ")\n",
        "l=bag_model.fit(X_train, y_train)"
      ]
    },
    {
      "cell_type": "code",
      "execution_count": null,
      "metadata": {
        "colab": {
          "base_uri": "https://localhost:8080/"
        },
        "id": "NDXe_eLYEiiL",
        "outputId": "f6b63ac7-86ad-49fb-cf2f-27557c547168"
      },
      "outputs": [
        {
          "output_type": "stream",
          "name": "stdout",
          "text": [
            "The mean abs error (MAE) on test set: 0.9647\n"
          ]
        }
      ],
      "source": [
        "mae = metrics.mean_absolute_error(y_test, l.predict(X_test))\n",
        "\n",
        "print(\"The mean abs error (MAE) on test set: {:.4f}\".format(mae))"
      ]
    },
    {
      "cell_type": "markdown",
      "metadata": {
        "id": "EgcEZ_4k6Jw7"
      },
      "source": [
        "#RANDOM FOREST\n"
      ]
    },
    {
      "cell_type": "code",
      "execution_count": null,
      "metadata": {
        "id": "wViZoO6P4hZx"
      },
      "outputs": [],
      "source": [
        "from sklearn.preprocessing import StandardScaler\n",
        "\n",
        "sc = StandardScaler()\n",
        "X_train = sc.fit_transform(X_train)\n",
        "X_test = sc.transform(X_test)"
      ]
    },
    {
      "cell_type": "code",
      "execution_count": null,
      "metadata": {
        "id": "vUdCAblm4i46"
      },
      "outputs": [],
      "source": [
        "from sklearn.ensemble import RandomForestRegressor\n",
        "\n",
        "regressor = RandomForestRegressor(n_estimators=100, random_state=0)\n",
        "regressor.fit(X_train, y_train)\n",
        "y_pred = regressor.predict(X_test)"
      ]
    },
    {
      "cell_type": "code",
      "execution_count": null,
      "metadata": {
        "colab": {
          "base_uri": "https://localhost:8080/"
        },
        "id": "ReMSShf64mO8",
        "outputId": "6271a712-eb8a-4956-c163-26ae479d0060"
      },
      "outputs": [
        {
          "output_type": "stream",
          "name": "stdout",
          "text": [
            "Mean Absolute Error: 0.913243243243243\n"
          ]
        }
      ],
      "source": [
        "from sklearn import metrics\n",
        "\n",
        "print('Mean Absolute Error:', metrics.mean_absolute_error(y_test, y_pred))\n"
      ]
    },
    {
      "cell_type": "markdown",
      "metadata": {
        "id": "5dSYxsTB6EYa"
      },
      "source": [
        "#DECISION TREES"
      ]
    },
    {
      "cell_type": "code",
      "execution_count": null,
      "metadata": {
        "colab": {
          "base_uri": "https://localhost:8080/"
        },
        "id": "N3-fE5Gh5xYB",
        "outputId": "8863c4bb-28d2-4a03-9c8c-7e40e213b6ec"
      },
      "outputs": [
        {
          "output_type": "execute_result",
          "data": {
            "text/plain": [
              "DecisionTreeRegressor(max_depth=3, min_samples_leaf=10, random_state=42)"
            ]
          },
          "metadata": {},
          "execution_count": 86
        }
      ],
      "source": [
        "from sklearn.tree import DecisionTreeRegressor\n",
        "regressor = DecisionTreeRegressor(max_depth=3,min_samples_leaf = 10, random_state = 42)\n",
        "regressor.fit(X_train, y_train)"
      ]
    },
    {
      "cell_type": "code",
      "execution_count": null,
      "metadata": {
        "id": "PSB-Cd6Y5y0V"
      },
      "outputs": [],
      "source": [
        "y_pred = regressor.predict(X_test)"
      ]
    },
    {
      "cell_type": "code",
      "execution_count": null,
      "metadata": {
        "colab": {
          "base_uri": "https://localhost:8080/",
          "height": 424
        },
        "id": "fFgFyjbi52so",
        "outputId": "b89162da-5c3f-4a2f-924a-75292a966456"
      },
      "outputs": [
        {
          "output_type": "execute_result",
          "data": {
            "text/plain": [
              "     Actual  Predicted\n",
              "313    11.0   7.818182\n",
              "311    13.0  11.714286\n",
              "13     11.0  10.031250\n",
              "291    15.0  15.360000\n",
              "355     9.0  10.031250\n",
              "..      ...        ...\n",
              "32     16.0  15.360000\n",
              "302    14.0  11.714286\n",
              "345    14.0  13.514286\n",
              "43     11.0   2.823529\n",
              "309    10.0   7.818182\n",
              "\n",
              "[74 rows x 2 columns]"
            ],
            "text/html": [
              "\n",
              "  <div id=\"df-5c273e2f-1309-42ac-bf94-e5a8aac7fb99\">\n",
              "    <div class=\"colab-df-container\">\n",
              "      <div>\n",
              "<style scoped>\n",
              "    .dataframe tbody tr th:only-of-type {\n",
              "        vertical-align: middle;\n",
              "    }\n",
              "\n",
              "    .dataframe tbody tr th {\n",
              "        vertical-align: top;\n",
              "    }\n",
              "\n",
              "    .dataframe thead th {\n",
              "        text-align: right;\n",
              "    }\n",
              "</style>\n",
              "<table border=\"1\" class=\"dataframe\">\n",
              "  <thead>\n",
              "    <tr style=\"text-align: right;\">\n",
              "      <th></th>\n",
              "      <th>Actual</th>\n",
              "      <th>Predicted</th>\n",
              "    </tr>\n",
              "  </thead>\n",
              "  <tbody>\n",
              "    <tr>\n",
              "      <th>313</th>\n",
              "      <td>11.0</td>\n",
              "      <td>7.818182</td>\n",
              "    </tr>\n",
              "    <tr>\n",
              "      <th>311</th>\n",
              "      <td>13.0</td>\n",
              "      <td>11.714286</td>\n",
              "    </tr>\n",
              "    <tr>\n",
              "      <th>13</th>\n",
              "      <td>11.0</td>\n",
              "      <td>10.031250</td>\n",
              "    </tr>\n",
              "    <tr>\n",
              "      <th>291</th>\n",
              "      <td>15.0</td>\n",
              "      <td>15.360000</td>\n",
              "    </tr>\n",
              "    <tr>\n",
              "      <th>355</th>\n",
              "      <td>9.0</td>\n",
              "      <td>10.031250</td>\n",
              "    </tr>\n",
              "    <tr>\n",
              "      <th>...</th>\n",
              "      <td>...</td>\n",
              "      <td>...</td>\n",
              "    </tr>\n",
              "    <tr>\n",
              "      <th>32</th>\n",
              "      <td>16.0</td>\n",
              "      <td>15.360000</td>\n",
              "    </tr>\n",
              "    <tr>\n",
              "      <th>302</th>\n",
              "      <td>14.0</td>\n",
              "      <td>11.714286</td>\n",
              "    </tr>\n",
              "    <tr>\n",
              "      <th>345</th>\n",
              "      <td>14.0</td>\n",
              "      <td>13.514286</td>\n",
              "    </tr>\n",
              "    <tr>\n",
              "      <th>43</th>\n",
              "      <td>11.0</td>\n",
              "      <td>2.823529</td>\n",
              "    </tr>\n",
              "    <tr>\n",
              "      <th>309</th>\n",
              "      <td>10.0</td>\n",
              "      <td>7.818182</td>\n",
              "    </tr>\n",
              "  </tbody>\n",
              "</table>\n",
              "<p>74 rows × 2 columns</p>\n",
              "</div>\n",
              "      <button class=\"colab-df-convert\" onclick=\"convertToInteractive('df-5c273e2f-1309-42ac-bf94-e5a8aac7fb99')\"\n",
              "              title=\"Convert this dataframe to an interactive table.\"\n",
              "              style=\"display:none;\">\n",
              "        \n",
              "  <svg xmlns=\"http://www.w3.org/2000/svg\" height=\"24px\"viewBox=\"0 0 24 24\"\n",
              "       width=\"24px\">\n",
              "    <path d=\"M0 0h24v24H0V0z\" fill=\"none\"/>\n",
              "    <path d=\"M18.56 5.44l.94 2.06.94-2.06 2.06-.94-2.06-.94-.94-2.06-.94 2.06-2.06.94zm-11 1L8.5 8.5l.94-2.06 2.06-.94-2.06-.94L8.5 2.5l-.94 2.06-2.06.94zm10 10l.94 2.06.94-2.06 2.06-.94-2.06-.94-.94-2.06-.94 2.06-2.06.94z\"/><path d=\"M17.41 7.96l-1.37-1.37c-.4-.4-.92-.59-1.43-.59-.52 0-1.04.2-1.43.59L10.3 9.45l-7.72 7.72c-.78.78-.78 2.05 0 2.83L4 21.41c.39.39.9.59 1.41.59.51 0 1.02-.2 1.41-.59l7.78-7.78 2.81-2.81c.8-.78.8-2.07 0-2.86zM5.41 20L4 18.59l7.72-7.72 1.47 1.35L5.41 20z\"/>\n",
              "  </svg>\n",
              "      </button>\n",
              "      \n",
              "  <style>\n",
              "    .colab-df-container {\n",
              "      display:flex;\n",
              "      flex-wrap:wrap;\n",
              "      gap: 12px;\n",
              "    }\n",
              "\n",
              "    .colab-df-convert {\n",
              "      background-color: #E8F0FE;\n",
              "      border: none;\n",
              "      border-radius: 50%;\n",
              "      cursor: pointer;\n",
              "      display: none;\n",
              "      fill: #1967D2;\n",
              "      height: 32px;\n",
              "      padding: 0 0 0 0;\n",
              "      width: 32px;\n",
              "    }\n",
              "\n",
              "    .colab-df-convert:hover {\n",
              "      background-color: #E2EBFA;\n",
              "      box-shadow: 0px 1px 2px rgba(60, 64, 67, 0.3), 0px 1px 3px 1px rgba(60, 64, 67, 0.15);\n",
              "      fill: #174EA6;\n",
              "    }\n",
              "\n",
              "    [theme=dark] .colab-df-convert {\n",
              "      background-color: #3B4455;\n",
              "      fill: #D2E3FC;\n",
              "    }\n",
              "\n",
              "    [theme=dark] .colab-df-convert:hover {\n",
              "      background-color: #434B5C;\n",
              "      box-shadow: 0px 1px 3px 1px rgba(0, 0, 0, 0.15);\n",
              "      filter: drop-shadow(0px 1px 2px rgba(0, 0, 0, 0.3));\n",
              "      fill: #FFFFFF;\n",
              "    }\n",
              "  </style>\n",
              "\n",
              "      <script>\n",
              "        const buttonEl =\n",
              "          document.querySelector('#df-5c273e2f-1309-42ac-bf94-e5a8aac7fb99 button.colab-df-convert');\n",
              "        buttonEl.style.display =\n",
              "          google.colab.kernel.accessAllowed ? 'block' : 'none';\n",
              "\n",
              "        async function convertToInteractive(key) {\n",
              "          const element = document.querySelector('#df-5c273e2f-1309-42ac-bf94-e5a8aac7fb99');\n",
              "          const dataTable =\n",
              "            await google.colab.kernel.invokeFunction('convertToInteractive',\n",
              "                                                     [key], {});\n",
              "          if (!dataTable) return;\n",
              "\n",
              "          const docLinkHtml = 'Like what you see? Visit the ' +\n",
              "            '<a target=\"_blank\" href=https://colab.research.google.com/notebooks/data_table.ipynb>data table notebook</a>'\n",
              "            + ' to learn more about interactive tables.';\n",
              "          element.innerHTML = '';\n",
              "          dataTable['output_type'] = 'display_data';\n",
              "          await google.colab.output.renderOutput(dataTable, element);\n",
              "          const docLink = document.createElement('div');\n",
              "          docLink.innerHTML = docLinkHtml;\n",
              "          element.appendChild(docLink);\n",
              "        }\n",
              "      </script>\n",
              "    </div>\n",
              "  </div>\n",
              "  "
            ]
          },
          "metadata": {},
          "execution_count": 88
        }
      ],
      "source": [
        "df=pd.DataFrame({'Actual':y_test, 'Predicted':y_pred})\n",
        "df"
      ]
    },
    {
      "cell_type": "code",
      "execution_count": null,
      "metadata": {
        "colab": {
          "base_uri": "https://localhost:8080/"
        },
        "id": "TqrXfHlR57vE",
        "outputId": "b3c3430a-5919-4a0a-ab99-e17b72037c07"
      },
      "outputs": [
        {
          "output_type": "stream",
          "name": "stdout",
          "text": [
            "Mean Absolute Error: 1.1241373332549807\n"
          ]
        }
      ],
      "source": [
        "from sklearn import metrics\n",
        "print('Mean Absolute Error:', metrics.mean_absolute_error(y_test, y_pred))"
      ]
    },
    {
      "cell_type": "markdown",
      "metadata": {
        "id": "s2ZwZc8dO5ao"
      },
      "source": [
        "#BOOSTING"
      ]
    },
    {
      "cell_type": "code",
      "execution_count": null,
      "metadata": {
        "id": "8nq_zFaxCGN1"
      },
      "outputs": [],
      "source": [
        "from sklearn import datasets, ensemble\n",
        "from sklearn.inspection import permutation_importance\n",
        "from sklearn.ensemble import GradientBoostingRegressor\n",
        "from sklearn.metrics import mean_absolute_error"
      ]
    },
    {
      "cell_type": "code",
      "execution_count": null,
      "metadata": {
        "colab": {
          "base_uri": "https://localhost:8080/"
        },
        "id": "_RXz5ckdCLji",
        "outputId": "d16c9788-3b38-4ae3-e634-a646d5c38604"
      },
      "outputs": [
        {
          "output_type": "execute_result",
          "data": {
            "text/plain": [
              "GradientBoostingRegressor(max_depth=4, n_estimators=15, random_state=0)"
            ]
          },
          "metadata": {},
          "execution_count": 91
        }
      ],
      "source": [
        "#Gradient boosting\n",
        "regressor = GradientBoostingRegressor(max_depth=4,n_estimators=15,learning_rate=0.1,random_state=0)\n",
        "regressor.fit(X_train, y_train)"
      ]
    },
    {
      "cell_type": "code",
      "execution_count": null,
      "metadata": {
        "colab": {
          "base_uri": "https://localhost:8080/"
        },
        "id": "ugl5l9XXC_Mj",
        "outputId": "6476089f-7b66-4b71-d669-a362cde72089"
      },
      "outputs": [
        {
          "output_type": "execute_result",
          "data": {
            "text/plain": [
              "1.2296143429654514"
            ]
          },
          "metadata": {},
          "execution_count": 92
        }
      ],
      "source": [
        "y_pred = regressor.predict(X_test)\n",
        "mean_absolute_error(y_test, y_pred)"
      ]
    },
    {
      "cell_type": "code",
      "execution_count": null,
      "metadata": {
        "colab": {
          "base_uri": "https://localhost:8080/"
        },
        "id": "Aa6q1x5wEFBm",
        "outputId": "a2deebab-22ce-492d-9793-ed10ceafe931"
      },
      "outputs": [
        {
          "output_type": "stream",
          "name": "stdout",
          "text": [
            "[11:19:15] WARNING: /workspace/src/objective/regression_obj.cu:152: reg:linear is now deprecated in favor of reg:squarederror.\n",
            "0.831403369839127\n"
          ]
        }
      ],
      "source": [
        "#ExtremeGradient Boosting\n",
        "from xgboost import XGBRegressor\n",
        "clf = XGBRegressor(n_estimators=100,\n",
        "                   learning_rate=0.1,\n",
        "                   random_state=42)\n",
        "clf.fit(X_train, y_train)\n",
        "y_pred = clf.predict(X_test)\n",
        "eg=mean_absolute_error(y_test, y_pred)\n",
        "print(eg)"
      ]
    },
    {
      "cell_type": "markdown",
      "metadata": {
        "id": "YsiItOWSFnvY"
      },
      "source": []
    },
    {
      "cell_type": "code",
      "execution_count": null,
      "metadata": {
        "colab": {
          "base_uri": "https://localhost:8080/"
        },
        "id": "d1AQY-iYELsA",
        "outputId": "37fcd790-2deb-401a-bb2f-443d715ee0b6"
      },
      "outputs": [
        {
          "output_type": "stream",
          "name": "stdout",
          "text": [
            "1.0024053453069863\n"
          ]
        }
      ],
      "source": [
        "#Adaboosting\n",
        "from sklearn.ensemble import AdaBoostRegressor\n",
        "\n",
        "adaclf = AdaBoostRegressor( \n",
        "                            n_estimators=100,\n",
        "                            learning_rate=0.1,\n",
        "                            random_state=42)\n",
        "\n",
        "adaclf.fit(X_train, y_train)\n",
        "y_pred_1 = adaclf.predict(X_test)\n",
        "ab=mean_absolute_error(y_test, y_pred_1)\n",
        "print(ab)"
      ]
    },
    {
      "cell_type": "markdown",
      "metadata": {
        "id": "xeJ-0_mCQyKP"
      },
      "source": [
        "#NEURAL NETWORK"
      ]
    },
    {
      "cell_type": "code",
      "execution_count": null,
      "metadata": {
        "id": "mNUKezrAKjZx"
      },
      "outputs": [],
      "source": [
        "import tensorflow as tf"
      ]
    },
    {
      "cell_type": "code",
      "execution_count": null,
      "metadata": {
        "id": "vGR_7D0_Kce-"
      },
      "outputs": [],
      "source": [
        "tf.random.set_seed(42)"
      ]
    },
    {
      "cell_type": "code",
      "execution_count": null,
      "metadata": {
        "id": "Qz3CK47GK5Lr"
      },
      "outputs": [],
      "source": [
        "model= tf.keras.Sequential([\n",
        "                             tf.keras.layers.Dense(28),\n",
        "                            tf.keras.layers.Dense(14),\n",
        "                            tf.keras.layers.Dense(7),\n",
        "                             tf.keras.layers.Dense(3),\n",
        "                             tf.keras.layers.Dense(2),\n",
        "                            tf.keras.layers.Dense(1)\n",
        "])"
      ]
    },
    {
      "cell_type": "code",
      "execution_count": null,
      "metadata": {
        "id": "Y7R8AhFVK-ws"
      },
      "outputs": [],
      "source": [
        "model.compile(loss= tf.keras.losses.mae,\n",
        "              optimizer= tf.keras.optimizers.Adam(),\n",
        "              metrics= [\"mae\"])"
      ]
    },
    {
      "cell_type": "code",
      "execution_count": null,
      "metadata": {
        "id": "pEWwdJjgLFY1"
      },
      "outputs": [],
      "source": [
        "history= model.fit(X_train, y_train, epochs=2500, verbose=0)"
      ]
    },
    {
      "cell_type": "code",
      "execution_count": null,
      "metadata": {
        "id": "6spqms_oLdOL",
        "colab": {
          "base_uri": "https://localhost:8080/"
        },
        "outputId": "3463df5e-98cc-492d-fbe5-ade8ed624810"
      },
      "outputs": [
        {
          "output_type": "stream",
          "name": "stdout",
          "text": [
            "3/3 [==============================] - 0s 5ms/step - loss: 0.9168 - mae: 0.9168\n"
          ]
        },
        {
          "output_type": "execute_result",
          "data": {
            "text/plain": [
              "[0.9167572259902954, 0.9167572259902954]"
            ]
          },
          "metadata": {},
          "execution_count": 100
        }
      ],
      "source": [
        "model.evaluate(X_test, y_test)"
      ]
    },
    {
      "cell_type": "code",
      "execution_count": null,
      "metadata": {
        "id": "OvIM7NMCLrkW",
        "colab": {
          "base_uri": "https://localhost:8080/"
        },
        "outputId": "809ec891-97e8-40a0-f0c8-9f1871f13363"
      },
      "outputs": [
        {
          "output_type": "stream",
          "name": "stdout",
          "text": [
            "Model: \"sequential\"\n",
            "_________________________________________________________________\n",
            " Layer (type)                Output Shape              Param #   \n",
            "=================================================================\n",
            " dense (Dense)               (None, 28)                812       \n",
            "                                                                 \n",
            " dense_1 (Dense)             (None, 14)                406       \n",
            "                                                                 \n",
            " dense_2 (Dense)             (None, 7)                 105       \n",
            "                                                                 \n",
            " dense_3 (Dense)             (None, 3)                 24        \n",
            "                                                                 \n",
            " dense_4 (Dense)             (None, 2)                 8         \n",
            "                                                                 \n",
            " dense_5 (Dense)             (None, 1)                 3         \n",
            "                                                                 \n",
            "=================================================================\n",
            "Total params: 1,358\n",
            "Trainable params: 1,358\n",
            "Non-trainable params: 0\n",
            "_________________________________________________________________\n"
          ]
        }
      ],
      "source": [
        "model.summary();"
      ]
    },
    {
      "cell_type": "code",
      "execution_count": null,
      "metadata": {
        "colab": {
          "base_uri": "https://localhost:8080/",
          "height": 514
        },
        "id": "odvfJ0AmLv-n",
        "outputId": "035f08d7-480e-4276-d748-c5453e9249fd"
      },
      "outputs": [
        {
          "output_type": "execute_result",
          "data": {
            "text/plain": [
              "Text(0.5, 0, 'epochs')"
            ]
          },
          "metadata": {},
          "execution_count": 102
        },
        {
          "output_type": "display_data",
          "data": {
            "text/plain": [
              "<Figure size 2052x756 with 1 Axes>"
            ],
            "image/png": "[encoded data removed]"
          },
          "metadata": {
            "needs_background": "light"
          }
        }
      ],
      "source": [
        "pd.DataFrame(history.history).plot()\n",
        "plt.ylabel(\"loss\")\n",
        "plt.xlabel(\"epochs\")"
      ]
    }
  ],
  "metadata": {
    "colab": {
      "provenance": []
    },
    "kernelspec": {
      "display_name": "Python 3",
      "name": "python3"
    },
    "language_info": {
      "name": "python"
    }
  },
  "nbformat": 4,
  "nbformat_minor": 0
}